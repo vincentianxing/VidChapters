{
  "cells": [
    {
      "cell_type": "markdown",
      "id": "7641e4ac",
      "metadata": {
        "id": "7641e4ac"
      },
      "source": [
        "### Installing the requirements"
      ]
    },
    {
      "cell_type": "code",
      "execution_count": null,
      "id": "fcf14904",
      "metadata": {
        "id": "fcf14904"
      },
      "outputs": [],
      "source": [
        "%%capture\n",
        "\n",
        "!pip install --upgrade yt_dlp\n",
        "!pip install pydub SpeechRecognition ffmpeg ffprobe googletrans==3.1.0a0 transformers"
      ]
    },
    {
      "cell_type": "code",
      "execution_count": null,
      "id": "e9dd935c",
      "metadata": {
        "id": "e9dd935c"
      },
      "outputs": [],
      "source": [
        "import yt_dlp\n",
        "import time\n",
        "import re\n",
        "import os\n",
        "from pydub import AudioSegment\n",
        "import speech_recognition as sr\n",
        "import math\n",
        "from tqdm import tqdm\n",
        "from googletrans import Translator\n",
        "from threading import Thread\n",
        "from google.colab import files"
      ]
    },
    {
      "cell_type": "markdown",
      "id": "6eb09a2b",
      "metadata": {
        "id": "6eb09a2b"
      },
      "source": [
        "### Downloading the audio (`url = video_link`)\n",
        "> - Specify here the link of the video you want to transcribe."
      ]
    },
    {
      "cell_type": "code",
      "execution_count": null,
      "id": "G-IiGqvTh0R3",
      "metadata": {
        "colab": {
          "base_uri": "https://localhost:8080/"
        },
        "id": "G-IiGqvTh0R3",
        "outputId": "fa63673f-0daa-4982-ccfd-2dd1de63d610"
      },
      "outputs": [
        {
          "name": "stdout",
          "output_type": "stream",
          "text": [
            "Mounted at /content/drive/\n"
          ]
        }
      ],
      "source": [
        "from google.colab import drive\n",
        "drive.mount('/content/drive/')"
      ]
    },
    {
      "cell_type": "code",
      "execution_count": null,
      "id": "yULW3XKKhOQN",
      "metadata": {
        "id": "yULW3XKKhOQN"
      },
      "outputs": [],
      "source": [
        "import json\n",
        "\n",
        "def extract_video_urls_from_json(json_file):\n",
        "    with open(json_file, \"r\") as f:\n",
        "        data = json.load(f)\n",
        "    video_urls = [data['database'][video_id]['video_url'] for video_id in data['database']]\n",
        "    return video_urls\n",
        "\n",
        "# Example usage:\n",
        "json_file = \"/content/drive/MyDrive/youcookii_annotations_trainval.json\"  # Change this to the path of your JSON file\n",
        "video_urls = extract_video_urls_from_json(json_file)"
      ]
    },
    {
      "cell_type": "code",
      "execution_count": null,
      "id": "18ccbef7",
      "metadata": {
        "colab": {
          "base_uri": "https://localhost:8080/"
        },
        "id": "18ccbef7",
        "outputId": "6def5943-9e44-4c44-85ad-130d4646af27"
      },
      "outputs": [
        {
          "name": "stdout",
          "output_type": "stream",
          "text": [
            "1790\n"
          ]
        }
      ],
      "source": [
        "# url = \"https://youtu.be/FLd00Bx4tOk?si=8E7s7_I4iZtigHeb\"\n",
        "print(len(video_urls))\n"
      ]
    },
    {
      "cell_type": "code",
      "execution_count": null,
      "id": "d48a25ae",
      "metadata": {
        "id": "d48a25ae"
      },
      "outputs": [],
      "source": [
        "class SplitWavAudioMubin():\n",
        "    def __init__(self, folder, filename):\n",
        "        self.folder = folder\n",
        "        self.filename = filename\n",
        "        self.filepath = folder + filename\n",
        "        self.audio = AudioSegment.from_wav(self.filepath)\n",
        "\n",
        "    def get_duration(self):\n",
        "        return self.audio.duration_seconds\n",
        "\n",
        "    def single_split(self, from_min, to_min, split_filename):\n",
        "        t1 = from_min * 60 * 1000\n",
        "        t2 = to_min * 60 * 1000\n",
        "        split_audio = self.audio[t1:t2]\n",
        "        split_audio.export(split_filename, format=\"wav\")\n",
        "\n",
        "    def multiple_split(self, min_per_split):\n",
        "        total_mins = math.ceil(self.get_duration() / 60)\n",
        "        for i in range(0, total_mins, min_per_split):\n",
        "            split_fn = str(i) + '_' + self.filename\n",
        "            self.single_split(i, i+min_per_split, split_fn)\n",
        "            if i == total_mins - min_per_split:\n",
        "                print('All splited successfully')\n",
        "        print('>>> Video duration: ' + str(self.get_duration()))\n",
        "\n",
        "def split_audio(file_name):\n",
        "    directory = \"splitted files for: \" + file_name\n",
        "    os.mkdir(directory)\n",
        "    os.chdir(directory)\n",
        "    split_wav = SplitWavAudioMubin(\"/content/\", file_name)\n",
        "    split_wav.multiple_split(min_per_split=1)"
      ]
    },
    {
      "cell_type": "code",
      "execution_count": null,
      "id": "6lrI0q5cJqex",
      "metadata": {
        "id": "6lrI0q5cJqex"
      },
      "outputs": [],
      "source": [
        "def speech_recognizer(files, frames, i):  ## This function recognizes speech in our WAV files\n",
        "    texts = []\n",
        "    recognizer = sr.Recognizer()\n",
        "\n",
        "    for file in tqdm(files):\n",
        "        with sr.AudioFile(file) as source:\n",
        "            recorded_audio = recognizer.listen(source)\n",
        "        try:\n",
        "            text = recognizer.recognize_google(\n",
        "                recorded_audio,\n",
        "                language=\"en-US\"  ## Replace with language keyword\n",
        "            )\n",
        "            texts.append(text)\n",
        "        except Exception as ex:\n",
        "            print(ex)\n",
        "    result = \"\"\n",
        "    for text in texts:\n",
        "        result += \" \" + text\n",
        "    frames[i] = result\n",
        "    return result\n",
        "\n",
        "def split_files(files, n_batches): ## This function split the files evenly between the threads we have.\n",
        "    k, m = divmod(len(files), n_batches)\n",
        "    return list(files[i*k+min(i, m):(i+1)*k+min(i+1, m)] for i in range(n_batches))\n",
        "\n",
        "def main(files, n_batches=8, verbose=True): ## By default, the maximum capacity of threads supported in collab is 8\n",
        "    threads = [None]*n_batches\n",
        "    frames = [None]*n_batches\n",
        "    batches = split_files(files, n_batches)\n",
        "    start = 0\n",
        "    for i in range(len(batches)):\n",
        "        if i>0:\n",
        "            start_index=len(batches[i-1])\n",
        "        else:\n",
        "            start_index = 0\n",
        "        t = Thread(target=speech_recognizer, args=(batches[i], frames, i))\n",
        "        threads[i] = t\n",
        "        t.start()\n",
        "    for t in threads:\n",
        "        t.join()\n",
        "    return frames"
      ]
    },
    {
      "cell_type": "code",
      "execution_count": null,
      "id": "Tupxi3RTFhMh",
      "metadata": {
        "id": "Tupxi3RTFhMh"
      },
      "outputs": [],
      "source": [
        "def preprocess_video(url):\n",
        "  # ydl_opts={}\n",
        "  # with yt_dlp.YoutubeDL(ydl_opts) as ydl:\n",
        "  #   info_dict = ydl.extract_info(url, download=False)\n",
        "  # video_title = info_dict['title']\n",
        "  try:\n",
        "    ydl_opts = {}\n",
        "    with yt_dlp.YoutubeDL(ydl_opts) as ydl:\n",
        "      info_dict = ydl.extract_info(url, download=False)\n",
        "    video_title = info_dict['title']\n",
        "  except yt_dlp.DownloadError:\n",
        "    print(f\"Video at URL {url} is not available or cannot be downloaded.\")\n",
        "    return None, None\n",
        "\n",
        "  video_name = re.sub('[\\\\\\\\/*?:\"<>|]', '', video_title)\n",
        "  name = video_name\n",
        "  ydl_opts = {\n",
        "     'format': 'm4a/bestaudio/best',\n",
        "         'noplaylist': True,\n",
        "         'continue_dl': True,\n",
        "         'outtmpl': f'./{name}.wav',\n",
        "         'postprocessors': [{\n",
        "             'key': 'FFmpegExtractAudio',\n",
        "             'preferredcodec': 'wav',\n",
        "             'preferredquality': '192',\n",
        "         }],\n",
        "         'geobypass':True,\n",
        "         'ffmpeg_location':'/usr/bin/ffmpeg'\n",
        "  }\n",
        "  with yt_dlp.YoutubeDL(ydl_opts) as ydl:\n",
        "    error_code = ydl.download(url)\n",
        "  print(\"check point 1\")\n",
        "  file_name = \"{}.wav.wav\".format(video_name)\n",
        "  directory = \"splitted files for: \" + file_name\n",
        "  if os.path.exists(directory):\n",
        "        print(f\"Directory '{directory}' already exists. Skipping...\")\n",
        "        return None, None\n",
        "  os.mkdir(directory)\n",
        "  os.chdir(directory)\n",
        "  split_wav = SplitWavAudioMubin(\"/content/\", file_name)\n",
        "  split_wav.multiple_split(min_per_split=1)\n",
        "  print(\"check point 2\")\n",
        "  search_dir = \"./\"\n",
        "  files = filter(os.path.isfile, os.listdir(search_dir))\n",
        "\n",
        "  files = [os.path.join(search_dir, f) for f in files] # add path to each file\n",
        "  files.sort(key=lambda x: os.path.getmtime(x))\n",
        "  print(\"check point 3\")\n",
        "  frames = main(files)\n",
        "  print(\"check point 4\")\n",
        "  result = \"\"\n",
        "  for text in frames:\n",
        "    result += \" \" + text\n",
        "  os.chdir(\"../\")\n",
        "  text_file = open(\"Transcription_\"+ file_name[:-4] +\".txt\", \"w\")\n",
        "  text_file.write(result)\n",
        "  text_file.close()\n",
        "  return result, video_name\n",
        "  # print(result)"
      ]
    },
    {
      "cell_type": "code",
      "execution_count": null,
      "id": "fypZJvn2jwQr",
      "metadata": {
        "colab": {
          "base_uri": "https://localhost:8080/"
        },
        "id": "fypZJvn2jwQr",
        "outputId": "24fd760d-a746-4f50-8c7c-88dd265d7318"
      },
      "outputs": [
        {
          "name": "stdout",
          "output_type": "stream",
          "text": [
            "\n"
          ]
        }
      ],
      "source": [
        "output_file = \"/content/drive/MyDrive/output3.txt\"\n",
        "print()"
      ]
    },
    {
      "cell_type": "code",
      "execution_count": null,
      "id": "wI822H4GPuqt",
      "metadata": {
        "colab": {
          "base_uri": "https://localhost:8080/"
        },
        "id": "wI822H4GPuqt",
        "outputId": "47576eae-193e-4a37-992f-2796345c63c9"
      },
      "outputs": [
        {
          "name": "stdout",
          "output_type": "stream",
          "text": [
            "1710\n"
          ]
        }
      ],
      "source": [
        "count = 0\n",
        "urls_to_process = video_urls[80:]\n",
        "print(len(urls_to_process))"
      ]
    },
    {
      "cell_type": "code",
      "execution_count": null,
      "id": "7JVE5RV4F83w",
      "metadata": {
        "colab": {
          "background_save": true,
          "base_uri": "https://localhost:8080/"
        },
        "id": "7JVE5RV4F83w",
        "outputId": "53ed930e-661f-4399-e96a-42a5cb8d4cd2"
      },
      "outputs": [
        {
          "name": "stdout",
          "output_type": "stream",
          "text": [
            "[youtube] Extracting URL: https://www.youtube.com/watch?v=GLd3aX16zBg\n",
            "[youtube] GLd3aX16zBg: Downloading webpage\n",
            "[youtube] GLd3aX16zBg: Downloading ios player API JSON\n",
            "[youtube] GLd3aX16zBg: Downloading android player API JSON\n",
            "[youtube] GLd3aX16zBg: Downloading m3u8 information\n",
            "[youtube] Extracting URL: https://www.youtube.com/watch?v=GLd3aX16zBg\n",
            "[youtube] GLd3aX16zBg: Downloading webpage\n",
            "[youtube] GLd3aX16zBg: Downloading ios player API JSON\n",
            "[youtube] GLd3aX16zBg: Downloading android player API JSON\n",
            "[youtube] GLd3aX16zBg: Downloading m3u8 information\n",
            "[info] GLd3aX16zBg: Downloading 1 format(s): 140\n",
            "[download] Destination: ./Grilled Cheese Recipe - How to make a White Trash Grilled Cheese Sandwich.wav\n",
            "[download] 100% of    3.73MiB in 00:00:55 at 68.86KiB/s  \n",
            "[FixupM4a] Correcting container of \"./Grilled Cheese Recipe - How to make a White Trash Grilled Cheese Sandwich.wav\"\n",
            "[ExtractAudio] Destination: ./Grilled Cheese Recipe - How to make a White Trash Grilled Cheese Sandwich.wav.wav\n",
            "Deleting original file ./Grilled Cheese Recipe - How to make a White Trash Grilled Cheese Sandwich.wav (pass -k to keep)\n",
            "check point 1\n",
            "All splited successfully\n",
            ">>> Video duration: 241.69650793650794\n",
            "check point 2\n",
            "check point 3\n"
          ]
        },
        {
          "name": "stderr",
          "output_type": "stream",
          "text": [
            "  0%|          | 0/1 [00:00<?, ?it/s]\n",
            "0it [00:00, ?it/s]\u001b[A\n",
            "\n",
            "\n",
            "  0%|          | 0/1 [00:00<?, ?it/s]\u001b[A\u001b[A\u001b[A\n",
            "\n",
            "  0%|          | 0/1 [00:00<?, ?it/s]\u001b[A\u001b[A\n",
            "\n",
            "\n",
            "\n",
            "0it [00:00, ?it/s]\u001b[A\u001b[A\u001b[A\u001b[A\n",
            "\n",
            "\n",
            "\n",
            "\n",
            "  0%|          | 0/1 [00:00<?, ?it/s]\u001b[A\u001b[A\u001b[A\u001b[A\u001b[A\n",
            "\n",
            "\n",
            "\n",
            "\n",
            "\n",
            "  0%|          | 0/1 [00:00<?, ?it/s]\u001b[A\u001b[A\u001b[A\u001b[A\u001b[A\u001b[A\n",
            "\n",
            "\n",
            "\n",
            "\n",
            "\n",
            "\n",
            "0it [00:00, ?it/s]\n",
            "0it [00:00, ?it/s]\n",
            "0it [00:00, ?it/s]\n",
            "\n",
            "\n",
            "\n",
            "100%|██████████| 1/1 [00:00<00:00,  9.32it/s]\n"
          ]
        },
        {
          "name": "stdout",
          "output_type": "stream",
          "text": [
            "\n"
          ]
        },
        {
          "name": "stderr",
          "output_type": "stream",
          "text": [
            "100%|██████████| 1/1 [00:02<00:00,  2.23s/it]"
          ]
        },
        {
          "name": "stdout",
          "output_type": "stream",
          "text": [
            "\n"
          ]
        },
        {
          "name": "stderr",
          "output_type": "stream",
          "text": [
            "\n",
            "\n",
            "\n",
            "\n",
            "\n",
            "\n",
            "\n",
            "100%|██████████| 1/1 [00:04<00:00,  4.30s/it]"
          ]
        },
        {
          "name": "stdout",
          "output_type": "stream",
          "text": [
            "\n"
          ]
        },
        {
          "name": "stderr",
          "output_type": "stream",
          "text": [
            "\n",
            "\n",
            "\n",
            "100%|██████████| 1/1 [00:15<00:00, 15.26s/it]"
          ]
        },
        {
          "name": "stdout",
          "output_type": "stream",
          "text": [
            "\n"
          ]
        },
        {
          "name": "stderr",
          "output_type": "stream",
          "text": [
            "\n",
            "\n",
            "\n",
            "\n",
            "\n",
            "\n",
            "100%|██████████| 1/1 [00:18<00:00, 18.41s/it]"
          ]
        },
        {
          "name": "stdout",
          "output_type": "stream",
          "text": [
            "check point 4\n",
            "\n",
            "\n",
            "\n",
            "\n",
            "\n",
            "\n",
            "Count:0\n",
            "[youtube] Extracting URL: https://www.youtube.com/watch?v=xHr8X2Wpmno\n",
            "[youtube] xHr8X2Wpmno: Downloading webpage\n"
          ]
        },
        {
          "name": "stderr",
          "output_type": "stream",
          "text": [
            "\n"
          ]
        },
        {
          "name": "stdout",
          "output_type": "stream",
          "text": [
            "[youtube] xHr8X2Wpmno: Downloading ios player API JSON\n",
            "[youtube] xHr8X2Wpmno: Downloading android player API JSON\n",
            "[youtube] xHr8X2Wpmno: Downloading m3u8 information\n",
            "[youtube] Extracting URL: https://www.youtube.com/watch?v=xHr8X2Wpmno\n",
            "[youtube] xHr8X2Wpmno: Downloading webpage\n",
            "[youtube] xHr8X2Wpmno: Downloading ios player API JSON\n",
            "[youtube] xHr8X2Wpmno: Downloading android player API JSON\n",
            "[youtube] xHr8X2Wpmno: Downloading m3u8 information\n",
            "[info] xHr8X2Wpmno: Downloading 1 format(s): 140\n",
            "[download] Destination: ./AUTHENTIC Fattoush Salad Recipe (Fattoush Recipe Video).wav\n",
            "[download] 100% of    3.19MiB in 00:00:36 at 89.15KiB/s  \n",
            "[FixupM4a] Correcting container of \"./AUTHENTIC Fattoush Salad Recipe (Fattoush Recipe Video).wav\"\n",
            "[ExtractAudio] Destination: ./AUTHENTIC Fattoush Salad Recipe (Fattoush Recipe Video).wav.wav\n",
            "Deleting original file ./AUTHENTIC Fattoush Salad Recipe (Fattoush Recipe Video).wav (pass -k to keep)\n",
            "check point 1\n",
            "All splited successfully\n",
            ">>> Video duration: 206.88979591836735\n",
            "check point 2\n",
            "check point 3\n"
          ]
        },
        {
          "name": "stderr",
          "output_type": "stream",
          "text": [
            "  0%|          | 0/1 [00:00<?, ?it/s]\n",
            "  0%|          | 0/1 [00:00<?, ?it/s]\u001b[A\n",
            "\n",
            "\n",
            "  0%|          | 0/1 [00:00<?, ?it/s]\u001b[A\u001b[A\u001b[A\n",
            "\n",
            "  0%|          | 0/1 [00:00<?, ?it/s]\u001b[A\u001b[A\n",
            "\n",
            "\n",
            "\n",
            "\n",
            "0it [00:00, ?it/s]\u001b[A\u001b[A\u001b[A\u001b[A\u001b[A\n",
            "\n",
            "\n",
            "\n",
            "0it [00:00, ?it/s]\u001b[A\u001b[A\u001b[A\u001b[A\n",
            "\n",
            "\n",
            "\n",
            "\n",
            "\n",
            "\n",
            "0it [00:00, ?it/s]\u001b[A\u001b[A\u001b[A\u001b[A\u001b[A\u001b[A\u001b[A\n",
            "\n",
            "\n",
            "\n",
            "\n",
            "\n",
            "0it [00:00, ?it/s]\n",
            "0it [00:00, ?it/s]\n",
            "0it [00:00, ?it/s]\n",
            "0it [00:00, ?it/s]\n",
            "\n",
            "\n",
            "\n",
            "100%|██████████| 1/1 [00:07<00:00,  7.55s/it]\n",
            "100%|██████████| 1/1 [00:13<00:00, 13.94s/it]\n",
            "\n",
            "\n",
            "100%|██████████| 1/1 [00:15<00:00, 15.64s/it]\n",
            "\n",
            "100%|██████████| 1/1 [00:24<00:00, 24.47s/it]"
          ]
        },
        {
          "name": "stdout",
          "output_type": "stream",
          "text": [
            "check point 4\n",
            "\n",
            "\n",
            "\n",
            "\n",
            "\n",
            "\n",
            "Count:1\n",
            "[youtube] Extracting URL: https://www.youtube.com/watch?v=V53XmPeyjIU\n",
            "[youtube] V53XmPeyjIU: Downloading webpage\n"
          ]
        },
        {
          "name": "stderr",
          "output_type": "stream",
          "text": [
            "\n"
          ]
        },
        {
          "name": "stdout",
          "output_type": "stream",
          "text": [
            "[youtube] V53XmPeyjIU: Downloading ios player API JSON\n",
            "[youtube] V53XmPeyjIU: Downloading android player API JSON\n",
            "[youtube] V53XmPeyjIU: Downloading m3u8 information\n",
            "[youtube] Extracting URL: https://www.youtube.com/watch?v=V53XmPeyjIU\n",
            "[youtube] V53XmPeyjIU: Downloading webpage\n",
            "[youtube] V53XmPeyjIU: Downloading ios player API JSON\n",
            "[youtube] V53XmPeyjIU: Downloading android player API JSON\n",
            "[youtube] V53XmPeyjIU: Downloading m3u8 information\n",
            "[info] V53XmPeyjIU: Downloading 1 format(s): 140\n",
            "[download] Destination: ./Country Fried Chicken Recipe..Ahhh..Memories!!!.wav\n",
            "[download] 100% of    2.92MiB in 00:00:02 at 1.31MiB/s   \n",
            "[FixupM4a] Correcting container of \"./Country Fried Chicken Recipe..Ahhh..Memories!!!.wav\"\n",
            "[ExtractAudio] Destination: ./Country Fried Chicken Recipe..Ahhh..Memories!!!.wav.wav\n",
            "Deleting original file ./Country Fried Chicken Recipe..Ahhh..Memories!!!.wav (pass -k to keep)\n",
            "check point 1\n",
            "All splited successfully\n",
            ">>> Video duration: 189.35873015873017\n",
            "check point 2\n",
            "check point 3\n"
          ]
        },
        {
          "name": "stderr",
          "output_type": "stream",
          "text": [
            "  0%|          | 0/1 [00:00<?, ?it/s]\n",
            "  0%|          | 0/1 [00:00<?, ?it/s]\u001b[A\n",
            "\n",
            "  0%|          | 0/1 [00:00<?, ?it/s]\u001b[A\u001b[A\n",
            "\n",
            "\n",
            "\n",
            "\n",
            "0it [00:00, ?it/s]\u001b[A\u001b[A\u001b[A\u001b[A\u001b[A\n",
            "\n",
            "\n",
            "\n",
            "0it [00:00, ?it/s]\u001b[A\u001b[A\u001b[A\u001b[A\n",
            "\n",
            "\n",
            "  0%|          | 0/1 [00:00<?, ?it/s]\u001b[A\u001b[A\u001b[A\n",
            "\n",
            "\n",
            "\n",
            "\n",
            "\n",
            "0it [00:00, ?it/s]\u001b[A\u001b[A\u001b[A\u001b[A\u001b[A\u001b[A\n",
            "\n",
            "\n",
            "\n",
            "\n",
            "\n",
            "\n",
            "0it [00:00, ?it/s]\n",
            "0it [00:00, ?it/s]\n",
            "0it [00:00, ?it/s]\n",
            "0it [00:00, ?it/s]\n",
            "\n",
            "100%|██████████| 1/1 [00:03<00:00,  3.65s/it]\n",
            "\n",
            "\n",
            "\n",
            "100%|██████████| 1/1 [00:03<00:00,  3.79s/it]"
          ]
        },
        {
          "name": "stdout",
          "output_type": "stream",
          "text": [
            "\n"
          ]
        },
        {
          "name": "stderr",
          "output_type": "stream",
          "text": [
            "\n",
            "100%|██████████| 1/1 [00:24<00:00, 24.36s/it]\n",
            "\n",
            "\n",
            "100%|██████████| 1/1 [00:26<00:00, 26.42s/it]"
          ]
        },
        {
          "name": "stdout",
          "output_type": "stream",
          "text": [
            "check point 4\n",
            "\n",
            "\n",
            "\n",
            "\n",
            "\n",
            "\n",
            "Count:2\n",
            "[youtube] Extracting URL: https://www.youtube.com/watch?v=mZwK0TBI1iY\n",
            "[youtube] mZwK0TBI1iY: Downloading webpage\n"
          ]
        },
        {
          "name": "stderr",
          "output_type": "stream",
          "text": [
            "\n"
          ]
        },
        {
          "name": "stdout",
          "output_type": "stream",
          "text": [
            "[youtube] mZwK0TBI1iY: Downloading ios player API JSON\n",
            "[youtube] mZwK0TBI1iY: Downloading android player API JSON\n",
            "[youtube] mZwK0TBI1iY: Downloading m3u8 information\n",
            "[youtube] Extracting URL: https://www.youtube.com/watch?v=mZwK0TBI1iY\n",
            "[youtube] mZwK0TBI1iY: Downloading webpage\n",
            "[youtube] mZwK0TBI1iY: Downloading ios player API JSON\n",
            "[youtube] mZwK0TBI1iY: Downloading android player API JSON\n",
            "[youtube] mZwK0TBI1iY: Downloading m3u8 information\n",
            "[info] mZwK0TBI1iY: Downloading 1 format(s): 140\n",
            "[download] Destination: ./How to Make Chicken Parmesan.wav\n",
            "[download] 100% of    4.09MiB in 00:00:35 at 119.55KiB/s \n",
            "[FixupM4a] Correcting container of \"./How to Make Chicken Parmesan.wav\"\n",
            "[ExtractAudio] Destination: ./How to Make Chicken Parmesan.wav.wav\n",
            "Deleting original file ./How to Make Chicken Parmesan.wav (pass -k to keep)\n",
            "check point 1\n",
            "All splited successfully\n",
            ">>> Video duration: 264.9861224489796\n",
            "check point 2\n",
            "check point 3\n"
          ]
        },
        {
          "name": "stderr",
          "output_type": "stream",
          "text": [
            "  0%|          | 0/1 [00:00<?, ?it/s]\n",
            "  0%|          | 0/1 [00:00<?, ?it/s]\u001b[A\n",
            "\n",
            "\n",
            "  0%|          | 0/1 [00:00<?, ?it/s]\u001b[A\u001b[A\u001b[A\n",
            "\n",
            "\n",
            "\n",
            "\n",
            "0it [00:00, ?it/s]\u001b[A\u001b[A\u001b[A\u001b[A\u001b[A\n",
            "\n",
            "\n",
            "\n",
            "  0%|          | 0/1 [00:00<?, ?it/s]\u001b[A\u001b[A\u001b[A\u001b[A\n",
            "\n",
            "\n",
            "\n",
            "\n",
            "\n",
            "\n",
            "0it [00:00, ?it/s]\u001b[A\u001b[A\u001b[A\u001b[A\u001b[A\u001b[A\u001b[A\n",
            "\n",
            "0it [00:00, ?it/s]\n",
            "\n",
            "\n",
            "\n",
            "\n",
            "\n",
            "\n",
            "0it [00:00, ?it/s]\n",
            "0it [00:00, ?it/s]\n",
            "\n",
            "\n",
            "100%|██████████| 1/1 [00:05<00:00,  5.44s/it]\n",
            "\n",
            "\n",
            "\n",
            "100%|██████████| 1/1 [00:05<00:00,  5.59s/it]\n"
          ]
        },
        {
          "name": "stdout",
          "output_type": "stream",
          "text": [
            "\n"
          ]
        },
        {
          "name": "stderr",
          "output_type": "stream",
          "text": [
            "\n",
            "\n",
            "\n",
            "\n",
            "100%|██████████| 1/1 [00:10<00:00, 10.05s/it]\n",
            "100%|██████████| 1/1 [00:20<00:00, 20.28s/it]\n",
            "\n",
            "100%|██████████| 1/1 [00:27<00:00, 27.06s/it]"
          ]
        },
        {
          "name": "stdout",
          "output_type": "stream",
          "text": [
            "check point 4\n",
            "\n",
            "\n",
            "\n",
            "\n",
            "\n",
            "\n",
            "Count:3\n",
            "[youtube] Extracting URL: https://www.youtube.com/watch?v=H_9oM1Y60lU\n",
            "[youtube] H_9oM1Y60lU: Downloading webpage\n"
          ]
        },
        {
          "name": "stderr",
          "output_type": "stream",
          "text": [
            "\n"
          ]
        },
        {
          "name": "stdout",
          "output_type": "stream",
          "text": [
            "[youtube] H_9oM1Y60lU: Downloading ios player API JSON\n",
            "[youtube] H_9oM1Y60lU: Downloading android player API JSON\n",
            "[youtube] H_9oM1Y60lU: Downloading m3u8 information\n",
            "[youtube] Extracting URL: https://www.youtube.com/watch?v=H_9oM1Y60lU\n",
            "[youtube] H_9oM1Y60lU: Downloading webpage\n",
            "[youtube] H_9oM1Y60lU: Downloading ios player API JSON\n",
            "[youtube] H_9oM1Y60lU: Downloading android player API JSON\n",
            "[youtube] H_9oM1Y60lU: Downloading m3u8 information\n",
            "[info] H_9oM1Y60lU: Downloading 1 format(s): 140\n",
            "[download] Destination: ./Bobby Flay's Throwdown Burger.wav\n",
            "[download] 100% of    4.89MiB in 00:00:26 at 187.79KiB/s \n",
            "[FixupM4a] Correcting container of \"./Bobby Flay's Throwdown Burger.wav\"\n",
            "[ExtractAudio] Destination: ./Bobby Flay's Throwdown Burger.wav.wav\n",
            "Deleting original file ./Bobby Flay's Throwdown Burger.wav (pass -k to keep)\n",
            "check point 1\n",
            "All splited successfully\n",
            ">>> Video duration: 316.46476190476193\n",
            "check point 2\n",
            "check point 3\n"
          ]
        },
        {
          "name": "stderr",
          "output_type": "stream",
          "text": [
            "\n",
            "  0%|          | 0/1 [00:00<?, ?it/s]\n",
            "\n",
            "\n",
            "\n",
            "  0%|          | 0/1 [00:00<?, ?it/s]\u001b[A\u001b[A\u001b[A\u001b[A\n",
            "\n",
            "\n",
            "\n",
            "\n",
            "  0%|          | 0/1 [00:00<?, ?it/s]\u001b[A\u001b[A\u001b[A\u001b[A\u001b[A\n",
            "\n",
            "  0%|          | 0/1 [00:00<?, ?it/s]\u001b[A\u001b[A\n",
            "\n",
            "\n",
            "  0%|          | 0/1 [00:00<?, ?it/s]\u001b[A\u001b[A\u001b[A\n",
            "\n",
            "\n",
            "\n",
            "\n",
            "\n",
            "0it [00:00, ?it/s]\u001b[A\u001b[A\u001b[A\u001b[A\u001b[A\u001b[A\n",
            "\n",
            "\n",
            "\n",
            "\n",
            "\n",
            "\n",
            "0it [00:00, ?it/s]\n",
            "0it [00:00, ?it/s]\n",
            "\n",
            "\n",
            "\n",
            "\n",
            "\n",
            "100%|██████████| 1/1 [00:01<00:00,  1.37s/it]"
          ]
        },
        {
          "name": "stdout",
          "output_type": "stream",
          "text": [
            "\n"
          ]
        },
        {
          "name": "stderr",
          "output_type": "stream",
          "text": [
            "\n",
            "100%|██████████| 1/1 [00:14<00:00, 14.86s/it]\n",
            "\n",
            "100%|██████████| 1/1 [00:16<00:00, 16.47s/it]\n",
            "\n",
            "\n",
            "\n",
            "100%|██████████| 1/1 [00:16<00:00, 16.47s/it]\n"
          ]
        },
        {
          "name": "stdout",
          "output_type": "stream",
          "text": [
            "\n"
          ]
        },
        {
          "name": "stderr",
          "output_type": "stream",
          "text": [
            "\n",
            "\n",
            "100%|██████████| 1/1 [00:17<00:00, 17.76s/it]\n",
            "\n",
            "\n",
            "\n",
            "\n",
            "100%|██████████| 1/1 [00:17<00:00, 18.00s/it]"
          ]
        },
        {
          "name": "stdout",
          "output_type": "stream",
          "text": [
            "\n",
            "check point 4\n",
            "\n",
            "\n",
            "\n",
            "\n",
            "\n",
            "\n",
            "Count:4\n",
            "[youtube] Extracting URL: https://www.youtube.com/watch?v=XOwypmUT5cc\n",
            "[youtube] XOwypmUT5cc: Downloading webpage\n"
          ]
        },
        {
          "name": "stderr",
          "output_type": "stream",
          "text": [
            "\n"
          ]
        },
        {
          "name": "stdout",
          "output_type": "stream",
          "text": [
            "[youtube] XOwypmUT5cc: Downloading ios player API JSON\n",
            "[youtube] XOwypmUT5cc: Downloading android player API JSON\n",
            "[youtube] XOwypmUT5cc: Downloading m3u8 information\n",
            "[youtube] Extracting URL: https://www.youtube.com/watch?v=XOwypmUT5cc\n",
            "[youtube] XOwypmUT5cc: Downloading webpage\n",
            "[youtube] XOwypmUT5cc: Downloading ios player API JSON\n",
            "[youtube] XOwypmUT5cc: Downloading android player API JSON\n",
            "[youtube] XOwypmUT5cc: Downloading m3u8 information\n",
            "[info] XOwypmUT5cc: Downloading 1 format(s): 140\n",
            "[download] Destination: ./Generals Tso Chicken Recipe.wav\n",
            "[download] 100% of   10.78MiB in 00:00:00 at 29.78MiB/s  \n",
            "[FixupM4a] Correcting container of \"./Generals Tso Chicken Recipe.wav\"\n",
            "[ExtractAudio] Destination: ./Generals Tso Chicken Recipe.wav.wav\n",
            "Deleting original file ./Generals Tso Chicken Recipe.wav (pass -k to keep)\n",
            "check point 1\n",
            "All splited successfully\n",
            ">>> Video duration: 698.7116553287982\n",
            "check point 2\n",
            "check point 3\n"
          ]
        },
        {
          "name": "stderr",
          "output_type": "stream",
          "text": [
            "\n",
            "  0%|          | 0/2 [00:00<?, ?it/s]\n",
            "\n",
            "  0%|          | 0/2 [00:00<?, ?it/s]\u001b[A\u001b[A\n",
            "\n",
            "\n",
            "\n",
            "  0%|          | 0/1 [00:00<?, ?it/s]\u001b[A\u001b[A\u001b[A\u001b[A\n",
            "\n",
            "\n",
            "\n",
            "\n",
            "\n",
            "  0%|          | 0/1 [00:00<?, ?it/s]\u001b[A\u001b[A\u001b[A\u001b[A\u001b[A\u001b[A\n",
            "\n",
            "\n",
            "\n",
            "\n",
            "\n",
            "\n",
            "  0%|          | 0/1 [00:00<?, ?it/s]\u001b[A\u001b[A\u001b[A\u001b[A\u001b[A\u001b[A\u001b[A\n",
            "\n",
            "\n",
            "  0%|          | 0/2 [00:00<?, ?it/s]\u001b[A\u001b[A\u001b[A\n",
            "\n",
            "\n",
            "\n",
            "\n",
            "  0%|          | 0/1 [00:00<?, ?it/s]\u001b[A\u001b[A\u001b[A\u001b[A\u001b[A\n",
            "\n",
            "\n",
            "\n",
            "\n",
            "\n",
            "100%|██████████| 1/1 [00:13<00:00, 13.11s/it]\n",
            "\n",
            "\n",
            "\n",
            "\n",
            "\n",
            "100%|██████████| 1/1 [00:14<00:00, 14.52s/it]\n",
            "\n",
            "\n",
            "\n",
            "\n",
            "\n",
            "\n",
            "\n",
            "100%|██████████| 1/1 [00:14<00:00, 14.96s/it]\n",
            "\n",
            "\n",
            "\n",
            "\n",
            "100%|██████████| 1/1 [00:16<00:00, 16.08s/it]\n",
            "\n",
            " 50%|█████     | 1/2 [00:22<00:22, 22.12s/it]\u001b[A\n",
            "\n",
            " 50%|█████     | 1/2 [00:26<00:26, 26.66s/it]\n",
            "\n",
            "100%|██████████| 2/2 [00:52<00:00, 26.48s/it]\n",
            "\n",
            "100%|██████████| 2/2 [00:54<00:00, 27.11s/it]\n",
            "\n",
            "\n",
            "\n",
            " 50%|█████     | 1/2 [03:54<03:54, 234.40s/it]\u001b[A\u001b[A\u001b[A\n",
            "\n",
            "\n",
            "100%|██████████| 2/2 [04:08<00:00, 124.01s/it]"
          ]
        },
        {
          "name": "stdout",
          "output_type": "stream",
          "text": [
            "\n"
          ]
        },
        {
          "name": "stderr",
          "output_type": "stream",
          "text": [
            "\n",
            "100%|██████████| 2/2 [04:27<00:00, 133.76s/it]"
          ]
        },
        {
          "name": "stdout",
          "output_type": "stream",
          "text": [
            "IncompleteRead(14 bytes read)\n",
            "check point 4\n",
            "\n",
            "\n",
            "\n",
            "\n",
            "\n",
            "\n",
            "Count:5\n",
            "[youtube] Extracting URL: https://www.youtube.com/watch?v=_xOx9hkJoBk\n",
            "[youtube] _xOx9hkJoBk: Downloading webpage\n"
          ]
        },
        {
          "name": "stderr",
          "output_type": "stream",
          "text": [
            "\n"
          ]
        },
        {
          "name": "stdout",
          "output_type": "stream",
          "text": [
            "[youtube] _xOx9hkJoBk: Downloading ios player API JSON\n",
            "[youtube] _xOx9hkJoBk: Downloading android player API JSON\n",
            "[youtube] _xOx9hkJoBk: Downloading m3u8 information\n",
            "[youtube] Extracting URL: https://www.youtube.com/watch?v=_xOx9hkJoBk\n",
            "[youtube] _xOx9hkJoBk: Downloading webpage\n",
            "[youtube] _xOx9hkJoBk: Downloading ios player API JSON\n",
            "[youtube] _xOx9hkJoBk: Downloading android player API JSON\n",
            "[youtube] _xOx9hkJoBk: Downloading m3u8 information\n",
            "[info] _xOx9hkJoBk: Downloading 1 format(s): 140\n",
            "[download] Destination: ./Salt And Pepper Squid  Calamari - Video Recipe.wav\n",
            "[download] 100% of    2.07MiB in 00:00:00 at 2.74MiB/s   \n",
            "[FixupM4a] Correcting container of \"./Salt And Pepper Squid  Calamari - Video Recipe.wav\"\n",
            "[ExtractAudio] Destination: ./Salt And Pepper Squid  Calamari - Video Recipe.wav.wav\n",
            "Deleting original file ./Salt And Pepper Squid  Calamari - Video Recipe.wav (pass -k to keep)\n",
            "check point 1\n",
            "All splited successfully\n",
            ">>> Video duration: 134.3506575963719\n",
            "check point 2\n",
            "check point 3\n"
          ]
        },
        {
          "name": "stderr",
          "output_type": "stream",
          "text": [
            "  0%|          | 0/1 [00:00<?, ?it/s]\n",
            "  0%|          | 0/1 [00:00<?, ?it/s]\u001b[A\n",
            "\n",
            "\n",
            "0it [00:00, ?it/s]\u001b[A\u001b[A\u001b[A\n",
            "\n",
            "\n",
            "\n",
            "0it [00:00, ?it/s]\u001b[A\u001b[A\u001b[A\u001b[A\n",
            "\n",
            "\n",
            "\n",
            "\n",
            "0it [00:00, ?it/s]\n",
            "\n",
            "\n",
            "0it [00:00, ?it/s]\n",
            "0it [00:00, ?it/s]\n",
            "\n",
            "\n",
            "\n",
            "\n",
            "0it [00:00, ?it/s]\u001b[A\u001b[A\u001b[A\u001b[A\n",
            "\n",
            "\n",
            "0it [00:00, ?it/s]\n",
            "0it [00:00, ?it/s]\n",
            "100%|██████████| 1/1 [00:02<00:00,  2.03s/it]"
          ]
        },
        {
          "name": "stdout",
          "output_type": "stream",
          "text": [
            "\n"
          ]
        },
        {
          "name": "stderr",
          "output_type": "stream",
          "text": [
            "\n",
            "\n",
            "\n",
            "100%|██████████| 1/1 [00:04<00:00,  4.61s/it]\n",
            "\n",
            "100%|██████████| 1/1 [00:18<00:00, 18.84s/it]"
          ]
        },
        {
          "name": "stdout",
          "output_type": "stream",
          "text": [
            "check point 4\n",
            "\n",
            "\n",
            "\n",
            "\n",
            "\n",
            "\n",
            "Count:6\n",
            "[youtube] Extracting URL: https://www.youtube.com/watch?v=67ilysu8CeU\n",
            "[youtube] 67ilysu8CeU: Downloading webpage\n"
          ]
        },
        {
          "name": "stderr",
          "output_type": "stream",
          "text": [
            "\n"
          ]
        },
        {
          "name": "stdout",
          "output_type": "stream",
          "text": [
            "[youtube] 67ilysu8CeU: Downloading ios player API JSON\n",
            "[youtube] 67ilysu8CeU: Downloading android player API JSON\n",
            "[youtube] 67ilysu8CeU: Downloading m3u8 information\n",
            "[youtube] Extracting URL: https://www.youtube.com/watch?v=67ilysu8CeU\n",
            "[youtube] 67ilysu8CeU: Downloading webpage\n",
            "[youtube] 67ilysu8CeU: Downloading ios player API JSON\n",
            "[youtube] 67ilysu8CeU: Downloading android player API JSON\n",
            "[youtube] 67ilysu8CeU: Downloading m3u8 information\n",
            "[info] 67ilysu8CeU: Downloading 1 format(s): 140\n",
            "[download] Destination: ./Chicken Leg Curry recipe.wav\n",
            "[download] 100% of    3.35MiB in 00:00:01 at 1.79MiB/s   \n",
            "[FixupM4a] Correcting container of \"./Chicken Leg Curry recipe.wav\"\n",
            "[ExtractAudio] Destination: ./Chicken Leg Curry recipe.wav.wav\n",
            "Deleting original file ./Chicken Leg Curry recipe.wav (pass -k to keep)\n",
            "check point 1\n",
            "All splited successfully\n",
            ">>> Video duration: 217.01369614512473\n",
            "check point 2\n",
            "check point 3\n"
          ]
        },
        {
          "name": "stderr",
          "output_type": "stream",
          "text": [
            "  0%|          | 0/1 [00:00<?, ?it/s]\n",
            "  0%|          | 0/1 [00:00<?, ?it/s]\u001b[A\n",
            "\n",
            "  0%|          | 0/1 [00:00<?, ?it/s]\u001b[A\u001b[A\n",
            "\n",
            "\n",
            "  0%|          | 0/1 [00:00<?, ?it/s]\u001b[A\u001b[A\u001b[A\n",
            "\n",
            "\n",
            "\n",
            "0it [00:00, ?it/s]\u001b[A\u001b[A\u001b[A\u001b[A\n",
            "\n",
            "\n",
            "\n",
            "\n",
            "0it [00:00, ?it/s]\u001b[A\u001b[A\u001b[A\u001b[A\u001b[A\n",
            "\n",
            "\n",
            "\n",
            "\n",
            "\n",
            "0it [00:00, ?it/s]\u001b[A\u001b[A\u001b[A\u001b[A\u001b[A\u001b[A\n",
            "\n",
            "\n",
            "\n",
            "\n",
            "\n",
            "\n",
            "0it [00:00, ?it/s]\n",
            "0it [00:00, ?it/s]\n",
            "0it [00:00, ?it/s]\n",
            "0it [00:00, ?it/s]\n",
            "100%|██████████| 1/1 [00:03<00:00,  3.60s/it]"
          ]
        },
        {
          "name": "stdout",
          "output_type": "stream",
          "text": [
            "\n"
          ]
        },
        {
          "name": "stderr",
          "output_type": "stream",
          "text": [
            "\n",
            "\n",
            "\n",
            "\n",
            "100%|██████████| 1/1 [00:13<00:00, 13.75s/it]\n",
            "\n",
            "\n",
            "100%|██████████| 1/1 [00:19<00:00, 19.88s/it]\n",
            "\n",
            "100%|██████████| 1/1 [00:21<00:00, 21.12s/it]"
          ]
        },
        {
          "name": "stdout",
          "output_type": "stream",
          "text": [
            "check point 4\n",
            "\n",
            "\n",
            "\n",
            "\n",
            "\n",
            "\n",
            "Count:7\n",
            "[youtube] Extracting URL: https://www.youtube.com/watch?v=gEYyWqs1oL0\n",
            "[youtube] gEYyWqs1oL0: Downloading webpage\n"
          ]
        },
        {
          "name": "stderr",
          "output_type": "stream",
          "text": [
            "\n"
          ]
        },
        {
          "name": "stdout",
          "output_type": "stream",
          "text": [
            "[youtube] gEYyWqs1oL0: Downloading ios player API JSON\n",
            "[youtube] gEYyWqs1oL0: Downloading android player API JSON\n",
            "[youtube] gEYyWqs1oL0: Downloading m3u8 information\n",
            "[youtube] Extracting URL: https://www.youtube.com/watch?v=gEYyWqs1oL0\n",
            "[youtube] gEYyWqs1oL0: Downloading webpage\n",
            "[youtube] gEYyWqs1oL0: Downloading ios player API JSON\n",
            "[youtube] gEYyWqs1oL0: Downloading android player API JSON\n",
            "[youtube] gEYyWqs1oL0: Downloading m3u8 information\n",
            "[info] gEYyWqs1oL0: Downloading 1 format(s): 140\n",
            "[download] Destination: ./How to Make Tuna Sashimi.wav\n",
            "[download] 100% of    3.49MiB in 00:00:28 at 125.78KiB/s \n",
            "[FixupM4a] Correcting container of \"./How to Make Tuna Sashimi.wav\"\n",
            "[ExtractAudio] Destination: ./How to Make Tuna Sashimi.wav.wav\n",
            "Deleting original file ./How to Make Tuna Sashimi.wav (pass -k to keep)\n",
            "check point 1\n",
            "All splited successfully\n",
            ">>> Video duration: 225.9998185941043\n",
            "check point 2\n",
            "check point 3\n"
          ]
        },
        {
          "name": "stderr",
          "output_type": "stream",
          "text": [
            "  0%|          | 0/1 [00:00<?, ?it/s]\n",
            "  0%|          | 0/1 [00:00<?, ?it/s]\u001b[A\n",
            "\n",
            "  0%|          | 0/1 [00:00<?, ?it/s]\u001b[A\u001b[A\n",
            "\n",
            "\n",
            "  0%|          | 0/1 [00:00<?, ?it/s]\u001b[A\u001b[A\u001b[A\n",
            "\n",
            "\n",
            "\n",
            "\n",
            "0it [00:00, ?it/s]\u001b[A\u001b[A\u001b[A\u001b[A\u001b[A\n",
            "\n",
            "\n",
            "\n",
            "\n",
            "\n",
            "0it [00:00, ?it/s]\n",
            "0it [00:00, ?it/s]\n",
            "\n",
            "\n",
            "\n",
            "\n",
            "\n",
            "\n",
            "\n",
            "0it [00:00, ?it/s]\u001b[A\u001b[A\u001b[A\u001b[A\u001b[A\u001b[A\u001b[A\n",
            "\n",
            "\n",
            "\n",
            "0it [00:00, ?it/s]\n",
            "0it [00:00, ?it/s]\n",
            "\n",
            "\n",
            "100%|██████████| 1/1 [00:04<00:00,  4.26s/it]"
          ]
        },
        {
          "name": "stdout",
          "output_type": "stream",
          "text": [
            "\n"
          ]
        },
        {
          "name": "stderr",
          "output_type": "stream",
          "text": [
            "\n",
            "\n",
            "100%|██████████| 1/1 [00:06<00:00,  6.48s/it]"
          ]
        },
        {
          "name": "stdout",
          "output_type": "stream",
          "text": [
            "\n"
          ]
        },
        {
          "name": "stderr",
          "output_type": "stream",
          "text": [
            "\n",
            "\n",
            "\n",
            "\n",
            "100%|██████████| 1/1 [00:09<00:00,  9.14s/it]"
          ]
        },
        {
          "name": "stdout",
          "output_type": "stream",
          "text": [
            "\n"
          ]
        },
        {
          "name": "stderr",
          "output_type": "stream",
          "text": [
            "\n",
            "100%|██████████| 1/1 [00:11<00:00, 11.34s/it]"
          ]
        },
        {
          "name": "stdout",
          "output_type": "stream",
          "text": [
            "check point 4\n",
            "\n",
            "\n",
            "\n",
            "\n",
            "\n",
            "\n",
            "Count:8\n",
            "[youtube] Extracting URL: https://www.youtube.com/watch?v=nfYzqyureLo\n",
            "[youtube] nfYzqyureLo: Downloading webpage\n"
          ]
        },
        {
          "name": "stderr",
          "output_type": "stream",
          "text": [
            "\n"
          ]
        },
        {
          "name": "stdout",
          "output_type": "stream",
          "text": [
            "[youtube] nfYzqyureLo: Downloading ios player API JSON\n",
            "[youtube] nfYzqyureLo: Downloading android player API JSON\n",
            "[youtube] nfYzqyureLo: Downloading m3u8 information\n",
            "[youtube] Extracting URL: https://www.youtube.com/watch?v=nfYzqyureLo\n",
            "[youtube] nfYzqyureLo: Downloading webpage\n",
            "[youtube] nfYzqyureLo: Downloading ios player API JSON\n",
            "[youtube] nfYzqyureLo: Downloading android player API JSON\n",
            "[youtube] nfYzqyureLo: Downloading m3u8 information\n",
            "[info] nfYzqyureLo: Downloading 1 format(s): 140\n",
            "[download] Destination: ./Thai Mussels Recipe - SORTED.wav\n",
            "[download] 100% of    4.00MiB in 00:01:16 at 53.55KiB/s  \n",
            "[FixupM4a] Correcting container of \"./Thai Mussels Recipe - SORTED.wav\"\n",
            "[ExtractAudio] Destination: ./Thai Mussels Recipe - SORTED.wav.wav\n",
            "Deleting original file ./Thai Mussels Recipe - SORTED.wav (pass -k to keep)\n",
            "check point 1\n",
            "All splited successfully\n",
            ">>> Video duration: 259.088253968254\n",
            "check point 2\n",
            "check point 3\n"
          ]
        },
        {
          "name": "stderr",
          "output_type": "stream",
          "text": [
            "  0%|          | 0/1 [00:00<?, ?it/s]\n",
            "\n",
            "  0%|          | 0/1 [00:00<?, ?it/s]\u001b[A\u001b[A\n",
            "  0%|          | 0/1 [00:00<?, ?it/s]\u001b[A\n",
            "\n",
            "\n",
            "  0%|          | 0/1 [00:00<?, ?it/s]\u001b[A\u001b[A\u001b[A\n",
            "\n",
            "\n",
            "\n",
            "  0%|          | 0/1 [00:00<?, ?it/s]\u001b[A\u001b[A\u001b[A\u001b[A\n",
            "\n",
            "\n",
            "\n",
            "\n",
            "\n",
            "0it [00:00, ?it/s]\u001b[A\u001b[A\u001b[A\u001b[A\u001b[A\u001b[A\n",
            "\n",
            "\n",
            "\n",
            "\n",
            "\n",
            "\n",
            "0it [00:00, ?it/s]\n",
            "\n",
            "\n",
            "\n",
            "\n",
            "\n",
            "0it [00:00, ?it/s]\n",
            "0it [00:00, ?it/s]\n",
            "\n",
            "\n",
            "\n",
            "\n",
            "100%|██████████| 1/1 [00:05<00:00,  5.02s/it]"
          ]
        },
        {
          "name": "stdout",
          "output_type": "stream",
          "text": [
            "\n"
          ]
        },
        {
          "name": "stderr",
          "output_type": "stream",
          "text": [
            "\n",
            "\n",
            "100%|██████████| 1/1 [00:16<00:00, 16.49s/it]"
          ]
        },
        {
          "name": "stdout",
          "output_type": "stream",
          "text": [
            "\n"
          ]
        },
        {
          "name": "stderr",
          "output_type": "stream",
          "text": [
            "\n",
            "\n",
            "\n",
            "\n",
            "100%|██████████| 1/1 [00:21<00:00, 21.05s/it]\n",
            "\n",
            "\n",
            "100%|██████████| 1/1 [00:26<00:00, 26.08s/it]\n",
            "100%|██████████| 1/1 [00:28<00:00, 28.99s/it]"
          ]
        },
        {
          "name": "stdout",
          "output_type": "stream",
          "text": [
            "check point 4\n",
            "\n",
            "\n",
            "\n",
            "\n",
            "\n",
            "\n",
            "Count:9\n",
            "[youtube] Extracting URL: https://www.youtube.com/watch?v=skrWT6xHVoI\n",
            "[youtube] skrWT6xHVoI: Downloading webpage\n"
          ]
        },
        {
          "name": "stderr",
          "output_type": "stream",
          "text": [
            "\n"
          ]
        },
        {
          "name": "stdout",
          "output_type": "stream",
          "text": [
            "[youtube] skrWT6xHVoI: Downloading ios player API JSON\n",
            "[youtube] skrWT6xHVoI: Downloading android player API JSON\n",
            "[youtube] skrWT6xHVoI: Downloading m3u8 information\n",
            "[youtube] Extracting URL: https://www.youtube.com/watch?v=skrWT6xHVoI\n",
            "[youtube] skrWT6xHVoI: Downloading webpage\n",
            "[youtube] skrWT6xHVoI: Downloading ios player API JSON\n",
            "[youtube] skrWT6xHVoI: Downloading android player API JSON\n",
            "[youtube] skrWT6xHVoI: Downloading m3u8 information\n",
            "[info] skrWT6xHVoI: Downloading 1 format(s): 140\n",
            "[download] Destination: ./Oven-Baked Hash Browns.wav\n",
            "[download] 100% of    2.90MiB in 00:00:22 at 129.37KiB/s \n",
            "[FixupM4a] Correcting container of \"./Oven-Baked Hash Browns.wav\"\n",
            "[ExtractAudio] Destination: ./Oven-Baked Hash Browns.wav.wav\n",
            "Deleting original file ./Oven-Baked Hash Browns.wav (pass -k to keep)\n",
            "check point 1\n",
            "All splited successfully\n",
            ">>> Video duration: 191.58784580498866\n",
            "check point 2\n",
            "check point 3\n"
          ]
        },
        {
          "name": "stderr",
          "output_type": "stream",
          "text": [
            "  0%|          | 0/1 [00:00<?, ?it/s]\n",
            "  0%|          | 0/1 [00:00<?, ?it/s]\u001b[A\n",
            "\n",
            "\n",
            "  0%|          | 0/1 [00:00<?, ?it/s]\u001b[A\u001b[A\u001b[A\n",
            "\n",
            "  0%|          | 0/1 [00:00<?, ?it/s]\u001b[A\u001b[A\n",
            "\n",
            "\n",
            "\n",
            "0it [00:00, ?it/s]\u001b[A\u001b[A\u001b[A\u001b[A\n",
            "\n",
            "\n",
            "\n",
            "\n",
            "\n",
            "0it [00:00, ?it/s]\u001b[A\u001b[A\u001b[A\u001b[A\u001b[A\u001b[A\n",
            "\n",
            "\n",
            "\n",
            "\n",
            "\n",
            "\n",
            "0it [00:00, ?it/s]\u001b[A\u001b[A\u001b[A\u001b[A\u001b[A\u001b[A\u001b[A\n",
            "\n",
            "\n",
            "\n",
            "\n",
            "0it [00:00, ?it/s]\n",
            "0it [00:00, ?it/s]\n",
            "0it [00:00, ?it/s]\n",
            "0it [00:00, ?it/s]\n",
            "\n",
            "\n",
            "\n",
            "100%|██████████| 1/1 [00:01<00:00,  1.67s/it]\n",
            "100%|██████████| 1/1 [00:09<00:00,  9.06s/it]\n",
            "\n",
            "100%|██████████| 1/1 [00:14<00:00, 14.02s/it]\n",
            "\n",
            "\n",
            "100%|██████████| 1/1 [00:23<00:00, 23.61s/it]"
          ]
        },
        {
          "name": "stdout",
          "output_type": "stream",
          "text": [
            "\n",
            "check point 4\n",
            "\n",
            "\n",
            "\n",
            "\n",
            "\n",
            "\n",
            "Count:10\n",
            "[youtube] Extracting URL: https://www.youtube.com/watch?v=BGCW_PWhY9g\n",
            "[youtube] BGCW_PWhY9g: Downloading webpage\n"
          ]
        },
        {
          "name": "stderr",
          "output_type": "stream",
          "text": [
            "\n"
          ]
        },
        {
          "name": "stdout",
          "output_type": "stream",
          "text": [
            "[youtube] BGCW_PWhY9g: Downloading ios player API JSON\n",
            "[youtube] BGCW_PWhY9g: Downloading android player API JSON\n",
            "[youtube] BGCW_PWhY9g: Downloading m3u8 information\n",
            "[youtube] Extracting URL: https://www.youtube.com/watch?v=BGCW_PWhY9g\n",
            "[youtube] BGCW_PWhY9g: Downloading webpage\n",
            "[youtube] BGCW_PWhY9g: Downloading ios player API JSON\n",
            "[youtube] BGCW_PWhY9g: Downloading android player API JSON\n",
            "[youtube] BGCW_PWhY9g: Downloading m3u8 information\n",
            "[info] BGCW_PWhY9g: Downloading 1 format(s): 140\n",
            "[download] Destination: ./Korean Food Chicken Bulgogi Recipe (Korean BBQ).wav\n",
            "[download] 100% of    1.64MiB in 00:00:00 at 19.59MiB/s  \n",
            "[FixupM4a] Correcting container of \"./Korean Food Chicken Bulgogi Recipe (Korean BBQ).wav\"\n",
            "[ExtractAudio] Destination: ./Korean Food Chicken Bulgogi Recipe (Korean BBQ).wav.wav\n",
            "Deleting original file ./Korean Food Chicken Bulgogi Recipe (Korean BBQ).wav (pass -k to keep)\n",
            "check point 1\n",
            "All splited successfully\n",
            ">>> Video duration: 106.4867120181406\n",
            "check point 2\n",
            "check point 3\n"
          ]
        },
        {
          "name": "stderr",
          "output_type": "stream",
          "text": [
            "  0%|          | 0/1 [00:00<?, ?it/s]\n",
            "  0%|          | 0/1 [00:00<?, ?it/s]\u001b[A\n",
            "\n",
            "0it [00:00, ?it/s]\u001b[A\u001b[A\n",
            "\n",
            "\n",
            "\n",
            "0it [00:00, ?it/s]\u001b[A\u001b[A\u001b[A\u001b[A\n",
            "\n",
            "\n",
            "0it [00:00, ?it/s]\n",
            "\n",
            "\n",
            "0it [00:00, ?it/s]\u001b[A\u001b[A\n",
            "\n",
            "\n",
            "\n",
            "\n",
            "\n",
            "0it [00:00, ?it/s]\n",
            "0it [00:00, ?it/s]\n",
            "0it [00:00, ?it/s]\n",
            "\n",
            "\n",
            "\n",
            "\n",
            "\n",
            "0it [00:00, ?it/s]\n",
            "0it [00:00, ?it/s]\n",
            "\n",
            "100%|██████████| 1/1 [00:10<00:00, 10.11s/it]\n",
            "100%|██████████| 1/1 [00:22<00:00, 22.18s/it]"
          ]
        },
        {
          "name": "stdout",
          "output_type": "stream",
          "text": [
            "check point 4\n",
            "\n",
            "\n",
            "\n",
            "\n",
            "\n",
            "\n",
            "Count:11\n",
            "[youtube] Extracting URL: https://www.youtube.com/watch?v=EjHxMfOdl1k\n",
            "[youtube] EjHxMfOdl1k: Downloading webpage\n"
          ]
        },
        {
          "name": "stderr",
          "output_type": "stream",
          "text": [
            "\n"
          ]
        },
        {
          "name": "stdout",
          "output_type": "stream",
          "text": [
            "[youtube] EjHxMfOdl1k: Downloading ios player API JSON\n",
            "[youtube] EjHxMfOdl1k: Downloading android player API JSON\n",
            "[youtube] EjHxMfOdl1k: Downloading m3u8 information\n",
            "[youtube] Extracting URL: https://www.youtube.com/watch?v=EjHxMfOdl1k\n",
            "[youtube] EjHxMfOdl1k: Downloading webpage\n",
            "[youtube] EjHxMfOdl1k: Downloading ios player API JSON\n",
            "[youtube] EjHxMfOdl1k: Downloading android player API JSON\n",
            "[youtube] EjHxMfOdl1k: Downloading m3u8 information\n",
            "[info] EjHxMfOdl1k: Downloading 1 format(s): 140\n",
            "[download] Destination: ./How to Make Chicken and Black Bean Burritos.wav\n",
            "[download] 100% of    4.44MiB in 00:00:28 at 159.02KiB/s \n",
            "[FixupM4a] Correcting container of \"./How to Make Chicken and Black Bean Burritos.wav\"\n",
            "[ExtractAudio] Destination: ./How to Make Chicken and Black Bean Burritos.wav.wav\n",
            "Deleting original file ./How to Make Chicken and Black Bean Burritos.wav (pass -k to keep)\n",
            "check point 1\n",
            "All splited successfully\n",
            ">>> Video duration: 287.3701587301587\n",
            "check point 2\n",
            "check point 3\n"
          ]
        },
        {
          "name": "stderr",
          "output_type": "stream",
          "text": [
            "\n",
            "  0%|          | 0/1 [00:00<?, ?it/s]\u001b[A\n",
            "\n",
            "  0%|          | 0/1 [00:00<?, ?it/s]\u001b[A\u001b[A\n",
            "\n",
            "\n",
            "  0%|          | 0/1 [00:00<?, ?it/s]\n",
            "\n",
            "\n",
            "\n",
            "0it [00:00, ?it/s]\u001b[A\u001b[A\u001b[A\u001b[A\n",
            "\n",
            "\n",
            "\n",
            "\n",
            "  0%|          | 0/1 [00:00<?, ?it/s]\u001b[A\u001b[A\u001b[A\u001b[A\u001b[A\n",
            "\n",
            "\n",
            "\n",
            "\n",
            "\n",
            "\n",
            "0it [00:00, ?it/s]\u001b[A\u001b[A\u001b[A\u001b[A\u001b[A\u001b[A\u001b[A\n",
            "\n",
            "\n",
            "\n",
            "\n",
            "\n",
            "0it [00:00, ?it/s]\n",
            "0it [00:00, ?it/s]\n",
            "0it [00:00, ?it/s]\n",
            "\n",
            "100%|██████████| 1/1 [00:20<00:00, 20.81s/it]\n",
            "\n",
            "\n",
            "\n",
            "100%|██████████| 1/1 [00:24<00:00, 24.19s/it]\n",
            "100%|██████████| 1/1 [00:28<00:00, 28.41s/it]\n",
            "\n",
            "\n",
            "100%|██████████| 1/1 [00:33<00:00, 33.25s/it]\n",
            "\n",
            "\n",
            "\n",
            "\n",
            "\n",
            "100%|██████████| 1/1 [02:13<00:00, 133.35s/it]"
          ]
        },
        {
          "name": "stdout",
          "output_type": "stream",
          "text": [
            "check point 4\n",
            "\n",
            "\n",
            "\n",
            "\n",
            "\n",
            "\n",
            "Count:12\n",
            "[youtube] Extracting URL: https://www.youtube.com/watch?v=MIXkGU4TJp0\n",
            "[youtube] MIXkGU4TJp0: Downloading webpage\n"
          ]
        },
        {
          "name": "stderr",
          "output_type": "stream",
          "text": [
            "\n"
          ]
        },
        {
          "name": "stdout",
          "output_type": "stream",
          "text": [
            "[youtube] MIXkGU4TJp0: Downloading ios player API JSON\n",
            "[youtube] MIXkGU4TJp0: Downloading android player API JSON\n",
            "[youtube] MIXkGU4TJp0: Downloading m3u8 information\n",
            "[youtube] Extracting URL: https://www.youtube.com/watch?v=MIXkGU4TJp0\n",
            "[youtube] MIXkGU4TJp0: Downloading webpage\n",
            "[youtube] MIXkGU4TJp0: Downloading ios player API JSON\n",
            "[youtube] MIXkGU4TJp0: Downloading android player API JSON\n",
            "[youtube] MIXkGU4TJp0: Downloading m3u8 information\n",
            "[info] MIXkGU4TJp0: Downloading 1 format(s): 140\n",
            "[download] Destination: ./How to Make Sauerkraut  P. Allen Smith Cooking Classics.wav\n",
            "[download] 100% of    4.12MiB in 00:00:00 at 18.57MiB/s  \n",
            "[FixupM4a] Correcting container of \"./How to Make Sauerkraut  P. Allen Smith Cooking Classics.wav\"\n",
            "[ExtractAudio] Destination: ./How to Make Sauerkraut  P. Allen Smith Cooking Classics.wav.wav\n",
            "Deleting original file ./How to Make Sauerkraut  P. Allen Smith Cooking Classics.wav (pass -k to keep)\n",
            "check point 1\n",
            "All splited successfully\n",
            ">>> Video duration: 266.9365986394558\n",
            "check point 2\n",
            "check point 3\n"
          ]
        },
        {
          "name": "stderr",
          "output_type": "stream",
          "text": [
            "  0%|          | 0/1 [00:00<?, ?it/s]\n",
            "  0%|          | 0/1 [00:00<?, ?it/s]\u001b[A\n",
            "\n",
            "  0%|          | 0/1 [00:00<?, ?it/s]\u001b[A\u001b[A\n",
            "\n",
            "\n",
            "  0%|          | 0/1 [00:00<?, ?it/s]\u001b[A\u001b[A\u001b[A\n",
            "\n",
            "\n",
            "\n",
            "  0%|          | 0/1 [00:00<?, ?it/s]\u001b[A\u001b[A\u001b[A\u001b[A\n",
            "\n",
            "\n",
            "\n",
            "\n",
            "0it [00:00, ?it/s]\u001b[A\u001b[A\u001b[A\u001b[A\u001b[A\n",
            "\n",
            "\n",
            "\n",
            "\n",
            "\n",
            "0it [00:00, ?it/s]\n",
            "\n",
            "\n",
            "\n",
            "\n",
            "\n",
            "0it [00:00, ?it/s]\n",
            "0it [00:00, ?it/s]\n",
            "\n",
            "100%|██████████| 1/1 [00:01<00:00,  1.32s/it]\n",
            "\n",
            "\n",
            "\n",
            "\n",
            "100%|██████████| 1/1 [00:20<00:00, 20.89s/it]\n",
            "100%|██████████| 1/1 [01:13<00:00, 73.11s/it]"
          ]
        },
        {
          "name": "stdout",
          "output_type": "stream",
          "text": [
            "\n"
          ]
        },
        {
          "name": "stderr",
          "output_type": "stream",
          "text": [
            "\n",
            "\n",
            "\n",
            "100%|██████████| 1/1 [01:25<00:00, 85.61s/it]"
          ]
        },
        {
          "name": "stdout",
          "output_type": "stream",
          "text": [
            "\n"
          ]
        },
        {
          "name": "stderr",
          "output_type": "stream",
          "text": [
            "\n",
            "\n",
            "\n",
            "\n",
            "100%|██████████| 1/1 [01:34<00:00, 94.20s/it]"
          ]
        },
        {
          "name": "stdout",
          "output_type": "stream",
          "text": [
            "\n",
            "check point 4\n",
            "\n",
            "\n",
            "\n",
            "\n",
            "\n",
            "\n",
            "Count:13\n",
            "[youtube] Extracting URL: https://www.youtube.com/watch?v=Ap3g0IRcjzU\n",
            "[youtube] Ap3g0IRcjzU: Downloading webpage\n"
          ]
        },
        {
          "name": "stderr",
          "output_type": "stream",
          "text": [
            "\n"
          ]
        },
        {
          "name": "stdout",
          "output_type": "stream",
          "text": [
            "[youtube] Ap3g0IRcjzU: Downloading ios player API JSON\n",
            "[youtube] Ap3g0IRcjzU: Downloading android player API JSON\n",
            "[youtube] Ap3g0IRcjzU: Downloading m3u8 information\n",
            "[youtube] Extracting URL: https://www.youtube.com/watch?v=Ap3g0IRcjzU\n",
            "[youtube] Ap3g0IRcjzU: Downloading webpage\n",
            "[youtube] Ap3g0IRcjzU: Downloading ios player API JSON\n",
            "[youtube] Ap3g0IRcjzU: Downloading android player API JSON\n",
            "[youtube] Ap3g0IRcjzU: Downloading m3u8 information\n",
            "[info] Ap3g0IRcjzU: Downloading 1 format(s): 140\n",
            "[download] Destination: ./Simple and Tasty Yaki Udon.wav\n",
            "[download] 100% of    7.60MiB in 00:00:02 at 3.45MiB/s   \n",
            "[FixupM4a] Correcting container of \"./Simple and Tasty Yaki Udon.wav\"\n",
            "[ExtractAudio] Destination: ./Simple and Tasty Yaki Udon.wav.wav\n",
            "Deleting original file ./Simple and Tasty Yaki Udon.wav (pass -k to keep)\n",
            "check point 1\n",
            "All splited successfully\n",
            ">>> Video duration: 492.5881179138322\n",
            "check point 2\n",
            "check point 3\n"
          ]
        },
        {
          "name": "stderr",
          "output_type": "stream",
          "text": [
            "\n",
            "  0%|          | 0/2 [00:00<?, ?it/s]\n",
            "\n",
            "  0%|          | 0/1 [00:00<?, ?it/s]\u001b[A\u001b[A\n",
            "\n",
            "\n",
            "\n",
            "\n",
            "  0%|          | 0/1 [00:00<?, ?it/s]\u001b[A\u001b[A\u001b[A\u001b[A\u001b[A\n",
            "\n",
            "\n",
            "  0%|          | 0/1 [00:00<?, ?it/s]\u001b[A\u001b[A\u001b[A\n",
            "\n",
            "\n",
            "\n",
            "\n",
            "\n",
            "\n",
            "  0%|          | 0/1 [00:00<?, ?it/s]\u001b[A\u001b[A\u001b[A\u001b[A\u001b[A\u001b[A\u001b[A\n",
            "\n",
            "\n",
            "\n",
            "  0%|          | 0/1 [00:00<?, ?it/s]\u001b[A\u001b[A\u001b[A\u001b[A\n",
            "\n",
            "\n",
            "\n",
            "\n",
            "\n",
            "  0%|          | 0/1 [00:00<?, ?it/s]\u001b[A\u001b[A\u001b[A\u001b[A\u001b[A\u001b[A\n",
            "\n",
            "\n",
            "\n",
            "\n",
            "\n",
            "100%|██████████| 1/1 [00:01<00:00,  1.62s/it]"
          ]
        },
        {
          "name": "stdout",
          "output_type": "stream",
          "text": [
            "\n"
          ]
        },
        {
          "name": "stderr",
          "output_type": "stream",
          "text": [
            "\n",
            "\n",
            "100%|██████████| 1/1 [00:04<00:00,  4.12s/it]\n",
            "\n",
            "\n",
            "\n",
            "\n",
            "\n",
            "\n",
            "\n",
            "100%|██████████| 1/1 [00:04<00:00,  4.15s/it]"
          ]
        },
        {
          "name": "stdout",
          "output_type": "stream",
          "text": [
            "\n"
          ]
        },
        {
          "name": "stderr",
          "output_type": "stream",
          "text": [
            "\n",
            "\n",
            "\n",
            "\n",
            "\n",
            "100%|██████████| 1/1 [00:09<00:00,  9.45s/it]\n",
            "\n",
            "\n",
            "\n",
            "100%|██████████| 1/1 [00:11<00:00, 11.69s/it]\n",
            "\n",
            "\n",
            "\n",
            "\n",
            "\n",
            "100%|██████████| 1/1 [00:15<00:00, 15.23s/it]\n",
            " 50%|█████     | 1/2 [00:17<00:17, 17.35s/it]\n",
            "\n",
            "100%|██████████| 1/1 [00:19<00:00, 19.21s/it]\n",
            "100%|██████████| 2/2 [00:44<00:00, 22.28s/it]"
          ]
        },
        {
          "name": "stdout",
          "output_type": "stream",
          "text": [
            "check point 4\n",
            "\n",
            "\n",
            "\n",
            "\n",
            "\n",
            "\n",
            "Count:14\n",
            "[youtube] Extracting URL: https://www.youtube.com/watch?v=4AIahLZfNq4\n",
            "[youtube] 4AIahLZfNq4: Downloading webpage\n"
          ]
        },
        {
          "name": "stderr",
          "output_type": "stream",
          "text": [
            "\n"
          ]
        },
        {
          "name": "stdout",
          "output_type": "stream",
          "text": [
            "[youtube] 4AIahLZfNq4: Downloading ios player API JSON\n",
            "[youtube] 4AIahLZfNq4: Downloading android player API JSON\n"
          ]
        },
        {
          "name": "stderr",
          "output_type": "stream",
          "text": [
            "ERROR: [youtube] 4AIahLZfNq4: Video unavailable\n"
          ]
        },
        {
          "name": "stdout",
          "output_type": "stream",
          "text": [
            "Video at URL https://www.youtube.com/watch?v=4AIahLZfNq4 is not available or cannot be downloaded.\n",
            "\n",
            "\n",
            "\n",
            "\n",
            "\n",
            "\n",
            "Count:15\n",
            "[youtube] Extracting URL: https://www.youtube.com/watch?v=7nH0Y3agsas\n",
            "[youtube] 7nH0Y3agsas: Downloading webpage\n",
            "[youtube] 7nH0Y3agsas: Downloading ios player API JSON\n",
            "[youtube] 7nH0Y3agsas: Downloading android player API JSON\n",
            "[youtube] 7nH0Y3agsas: Downloading m3u8 information\n",
            "[youtube] Extracting URL: https://www.youtube.com/watch?v=7nH0Y3agsas\n",
            "[youtube] 7nH0Y3agsas: Downloading webpage\n",
            "[youtube] 7nH0Y3agsas: Downloading ios player API JSON\n",
            "[youtube] 7nH0Y3agsas: Downloading android player API JSON\n",
            "[youtube] 7nH0Y3agsas: Downloading m3u8 information\n",
            "[info] 7nH0Y3agsas: Downloading 1 format(s): 140\n",
            "[download] Destination: ./Milano Minestrone (Healthy Soup) by Tarla Dalal.wav\n",
            "[download] 100% of    3.37MiB in 00:00:17 at 200.18KiB/s \n",
            "[FixupM4a] Correcting container of \"./Milano Minestrone (Healthy Soup) by Tarla Dalal.wav\"\n",
            "[ExtractAudio] Destination: ./Milano Minestrone (Healthy Soup) by Tarla Dalal.wav.wav\n",
            "Deleting original file ./Milano Minestrone (Healthy Soup) by Tarla Dalal.wav (pass -k to keep)\n",
            "check point 1\n",
            "All splited successfully\n",
            ">>> Video duration: 218.29079365079366\n",
            "check point 2\n",
            "check point 3\n"
          ]
        },
        {
          "name": "stderr",
          "output_type": "stream",
          "text": [
            "  0%|          | 0/1 [00:00<?, ?it/s]\n",
            "  0%|          | 0/1 [00:00<?, ?it/s]\u001b[A\n",
            "\n",
            "  0%|          | 0/1 [00:00<?, ?it/s]\u001b[A\u001b[A\n",
            "\n",
            "\n",
            "  0%|          | 0/1 [00:00<?, ?it/s]\u001b[A\u001b[A\u001b[A\n",
            "\n",
            "\n",
            "\n",
            "\n",
            "\n",
            "0it [00:00, ?it/s]\u001b[A\u001b[A\u001b[A\u001b[A\u001b[A\u001b[A\n",
            "\n",
            "\n",
            "\n",
            "\n",
            "0it [00:00, ?it/s]\u001b[A\u001b[A\u001b[A\u001b[A\u001b[A\n",
            "\n",
            "\n",
            "\n",
            "\n",
            "\n",
            "\n",
            "0it [00:00, ?it/s]\n",
            "\n",
            "\n",
            "\n",
            "\n",
            "0it [00:00, ?it/s]\n",
            "0it [00:00, ?it/s]\n",
            "0it [00:00, ?it/s]\n",
            "\n",
            "\n",
            "100%|██████████| 1/1 [00:02<00:00,  2.04s/it]"
          ]
        },
        {
          "name": "stdout",
          "output_type": "stream",
          "text": [
            "\n"
          ]
        },
        {
          "name": "stderr",
          "output_type": "stream",
          "text": [
            "\n",
            "\n",
            "\n",
            "\n",
            "100%|██████████| 1/1 [00:11<00:00, 11.50s/it]\n",
            "\n",
            "100%|██████████| 1/1 [00:20<00:00, 20.96s/it]\n",
            "100%|██████████| 1/1 [00:22<00:00, 22.65s/it]"
          ]
        },
        {
          "name": "stdout",
          "output_type": "stream",
          "text": [
            "check point 4\n",
            "\n",
            "\n",
            "\n",
            "\n",
            "\n",
            "\n",
            "Count:16\n",
            "[youtube] Extracting URL: https://www.youtube.com/watch?v=wXA-1ZmvuEA\n",
            "[youtube] wXA-1ZmvuEA: Downloading webpage\n"
          ]
        },
        {
          "name": "stderr",
          "output_type": "stream",
          "text": [
            "\n"
          ]
        },
        {
          "name": "stdout",
          "output_type": "stream",
          "text": [
            "[youtube] wXA-1ZmvuEA: Downloading ios player API JSON\n",
            "[youtube] wXA-1ZmvuEA: Downloading android player API JSON\n",
            "[youtube] wXA-1ZmvuEA: Downloading m3u8 information\n",
            "[youtube] Extracting URL: https://www.youtube.com/watch?v=wXA-1ZmvuEA\n",
            "[youtube] wXA-1ZmvuEA: Downloading webpage\n",
            "[youtube] wXA-1ZmvuEA: Downloading ios player API JSON\n",
            "[youtube] wXA-1ZmvuEA: Downloading android player API JSON\n",
            "[youtube] wXA-1ZmvuEA: Downloading m3u8 information\n",
            "[info] wXA-1ZmvuEA: Downloading 1 format(s): 140\n",
            "[download] Destination: ./Peking Hot And Sour Soup.wav\n",
            "[download] 100% of    6.67MiB in 00:01:24 at 80.84KiB/s  \n",
            "[FixupM4a] Correcting container of \"./Peking Hot And Sour Soup.wav\"\n",
            "[ExtractAudio] Destination: ./Peking Hot And Sour Soup.wav.wav\n",
            "Deleting original file ./Peking Hot And Sour Soup.wav (pass -k to keep)\n",
            "check point 1\n",
            "All splited successfully\n",
            ">>> Video duration: 432.0304761904762\n",
            "check point 2\n",
            "check point 3\n"
          ]
        },
        {
          "name": "stderr",
          "output_type": "stream",
          "text": [
            "  0%|          | 0/1 [00:00<?, ?it/s]\n",
            "  0%|          | 0/1 [00:00<?, ?it/s]\u001b[A\n",
            "\n",
            "  0%|          | 0/1 [00:00<?, ?it/s]\u001b[A\u001b[A\n",
            "\n",
            "\n",
            "  0%|          | 0/1 [00:00<?, ?it/s]\u001b[A\u001b[A\u001b[A\n",
            "\n",
            "\n",
            "\n",
            "\n",
            "\n",
            "  0%|          | 0/1 [00:00<?, ?it/s]\u001b[A\u001b[A\u001b[A\u001b[A\u001b[A\u001b[A\n",
            "\n",
            "\n",
            "\n",
            "\n",
            "  0%|          | 0/1 [00:00<?, ?it/s]\u001b[A\u001b[A\u001b[A\u001b[A\u001b[A\n",
            "\n",
            "\n",
            "\n",
            "  0%|          | 0/1 [00:00<?, ?it/s]\u001b[A\u001b[A\u001b[A\u001b[A\n",
            "\n",
            "\n",
            "\n",
            "\n",
            "\n",
            "\n",
            "  0%|          | 0/1 [00:00<?, ?it/s]\u001b[A\u001b[A\u001b[A\u001b[A\u001b[A\u001b[A\u001b[A\n",
            "\n",
            "\n",
            "\n",
            "\n",
            "\n",
            "\n",
            "100%|██████████| 1/1 [00:01<00:00,  1.08s/it]"
          ]
        },
        {
          "name": "stdout",
          "output_type": "stream",
          "text": [
            "\n"
          ]
        },
        {
          "name": "stderr",
          "output_type": "stream",
          "text": [
            "\n",
            "\n",
            "\n",
            "100%|██████████| 1/1 [00:02<00:00,  2.31s/it]"
          ]
        },
        {
          "name": "stdout",
          "output_type": "stream",
          "text": [
            "\n"
          ]
        },
        {
          "name": "stderr",
          "output_type": "stream",
          "text": [
            "\n",
            "\n",
            "\n",
            "\n",
            "100%|██████████| 1/1 [00:04<00:00,  4.59s/it]"
          ]
        },
        {
          "name": "stdout",
          "output_type": "stream",
          "text": [
            "\n"
          ]
        },
        {
          "name": "stderr",
          "output_type": "stream",
          "text": [
            "\n",
            "\n",
            "\n",
            "\n",
            "\n",
            "\n",
            "\n",
            "100%|██████████| 1/1 [00:12<00:00, 12.11s/it]"
          ]
        },
        {
          "name": "stdout",
          "output_type": "stream",
          "text": [
            "\n"
          ]
        },
        {
          "name": "stderr",
          "output_type": "stream",
          "text": [
            "\n",
            "\n",
            "100%|██████████| 1/1 [00:12<00:00, 12.47s/it]\n",
            "\n",
            "\n",
            "\n",
            "\n",
            "100%|██████████| 1/1 [00:19<00:00, 19.74s/it]\n",
            "\n",
            "\n",
            "\n",
            "\n",
            "\n",
            "100%|██████████| 1/1 [00:26<00:00, 26.06s/it]\n",
            "100%|██████████| 1/1 [00:28<00:00, 28.98s/it]"
          ]
        },
        {
          "name": "stdout",
          "output_type": "stream",
          "text": [
            "check point 4\n",
            "\n",
            "\n",
            "\n",
            "\n",
            "\n",
            "\n",
            "Count:17\n",
            "[youtube] Extracting URL: https://www.youtube.com/watch?v=Kbrkj7wZ4UA\n",
            "[youtube] Kbrkj7wZ4UA: Downloading webpage\n"
          ]
        },
        {
          "name": "stderr",
          "output_type": "stream",
          "text": [
            "\n"
          ]
        },
        {
          "name": "stdout",
          "output_type": "stream",
          "text": [
            "[youtube] Kbrkj7wZ4UA: Downloading ios player API JSON\n",
            "[youtube] Kbrkj7wZ4UA: Downloading android player API JSON\n",
            "[youtube] Kbrkj7wZ4UA: Downloading m3u8 information\n",
            "[youtube] Extracting URL: https://www.youtube.com/watch?v=Kbrkj7wZ4UA\n",
            "[youtube] Kbrkj7wZ4UA: Downloading webpage\n",
            "[youtube] Kbrkj7wZ4UA: Downloading ios player API JSON\n",
            "[youtube] Kbrkj7wZ4UA: Downloading android player API JSON\n",
            "[youtube] Kbrkj7wZ4UA: Downloading m3u8 information\n",
            "[info] Kbrkj7wZ4UA: Downloading 1 format(s): 140\n",
            "[download] Destination: ./No Yeast Tawa Naan Recipe Video - Quick & Easy Yeast free naan or Pizza dough Recipe!.wav\n",
            "[download] 100% of    7.20MiB in 00:00:00 at 7.65MiB/s   \n",
            "[FixupM4a] Correcting container of \"./No Yeast Tawa Naan Recipe Video - Quick & Easy Yeast free naan or Pizza dough Recipe!.wav\"\n",
            "[ExtractAudio] Destination: ./No Yeast Tawa Naan Recipe Video - Quick & Easy Yeast free naan or Pizza dough Recipe!.wav.wav\n",
            "Deleting original file ./No Yeast Tawa Naan Recipe Video - Quick & Easy Yeast free naan or Pizza dough Recipe!.wav (pass -k to keep)\n",
            "check point 1\n",
            "All splited successfully\n",
            ">>> Video duration: 466.44244897959186\n",
            "check point 2\n",
            "check point 3\n"
          ]
        },
        {
          "name": "stderr",
          "output_type": "stream",
          "text": [
            "\n",
            "  0%|          | 0/1 [00:00<?, ?it/s]\n",
            "\n",
            "  0%|          | 0/1 [00:00<?, ?it/s]\u001b[A\u001b[A\n",
            "\n",
            "\n",
            "  0%|          | 0/1 [00:00<?, ?it/s]\u001b[A\u001b[A\u001b[A\n",
            "\n",
            "\n",
            "\n",
            "\n",
            "\n",
            "  0%|          | 0/1 [00:00<?, ?it/s]\u001b[A\u001b[A\u001b[A\u001b[A\u001b[A\u001b[A\n",
            "\n",
            "\n",
            "\n",
            "\n",
            "  0%|          | 0/1 [00:00<?, ?it/s]\u001b[A\u001b[A\u001b[A\u001b[A\u001b[A\n",
            "\n",
            "\n",
            "\n",
            "  0%|          | 0/1 [00:00<?, ?it/s]\u001b[A\u001b[A\u001b[A\u001b[A\n",
            "\n",
            "\n",
            "\n",
            "\n",
            "\n",
            "\n",
            "  0%|          | 0/1 [00:00<?, ?it/s]\u001b[A\u001b[A\u001b[A\u001b[A\u001b[A\u001b[A\u001b[A\n",
            "\n",
            "\n",
            "\n",
            "\n",
            "\n",
            "\n",
            "100%|██████████| 1/1 [00:09<00:00,  9.65s/it]\n",
            "\n",
            "100%|██████████| 1/1 [00:16<00:00, 16.47s/it]\n",
            "\n",
            "\n",
            "100%|██████████| 1/1 [00:17<00:00, 17.49s/it]\n",
            "\n",
            "\n",
            "\n",
            "\n",
            "\n",
            "100%|██████████| 1/1 [00:19<00:00, 19.48s/it]\n",
            "\n",
            "\n",
            "\n",
            "100%|██████████| 1/1 [00:21<00:00, 21.76s/it]\n",
            "\n",
            "\n",
            "\n",
            "\n",
            "100%|██████████| 1/1 [00:23<00:00, 23.00s/it]\n",
            "\n",
            "\n",
            "\n",
            "\n",
            "\n",
            "\n",
            "100%|██████████| 1/1 [00:27<00:00, 27.08s/it]\n",
            "100%|██████████| 1/1 [02:30<00:00, 150.99s/it]"
          ]
        },
        {
          "name": "stdout",
          "output_type": "stream",
          "text": [
            "check point 4\n",
            "\n",
            "\n",
            "\n",
            "\n",
            "\n",
            "\n",
            "Count:18\n",
            "[youtube] Extracting URL: https://www.youtube.com/watch?v=pluBtIfxUvE\n",
            "[youtube] pluBtIfxUvE: Downloading webpage\n"
          ]
        },
        {
          "name": "stderr",
          "output_type": "stream",
          "text": [
            "\n"
          ]
        },
        {
          "name": "stdout",
          "output_type": "stream",
          "text": [
            "[youtube] pluBtIfxUvE: Downloading ios player API JSON\n",
            "[youtube] pluBtIfxUvE: Downloading android player API JSON\n",
            "[youtube] pluBtIfxUvE: Downloading m3u8 information\n",
            "[youtube] Extracting URL: https://www.youtube.com/watch?v=pluBtIfxUvE\n",
            "[youtube] pluBtIfxUvE: Downloading webpage\n",
            "[youtube] pluBtIfxUvE: Downloading ios player API JSON\n",
            "[youtube] pluBtIfxUvE: Downloading android player API JSON\n",
            "[youtube] pluBtIfxUvE: Downloading m3u8 information\n",
            "[info] pluBtIfxUvE: Downloading 1 format(s): 140\n",
            "[download] Destination: ./Lobster Scrambled Eggs Recipe - Leftover Lobster Recipe.wav\n",
            "[download] 100% of    3.28MiB in 00:00:00 at 3.78MiB/s   \n",
            "[FixupM4a] Correcting container of \"./Lobster Scrambled Eggs Recipe - Leftover Lobster Recipe.wav\"\n",
            "[ExtractAudio] Destination: ./Lobster Scrambled Eggs Recipe - Leftover Lobster Recipe.wav.wav\n",
            "Deleting original file ./Lobster Scrambled Eggs Recipe - Leftover Lobster Recipe.wav (pass -k to keep)\n",
            "check point 1\n",
            "All splited successfully\n",
            ">>> Video duration: 212.13750566893424\n",
            "check point 2\n",
            "check point 3\n"
          ]
        },
        {
          "name": "stderr",
          "output_type": "stream",
          "text": [
            "  0%|          | 0/1 [00:00<?, ?it/s]\n",
            "  0%|          | 0/1 [00:00<?, ?it/s]\u001b[A\n",
            "\n",
            "0it [00:00, ?it/s]\u001b[A\u001b[A\n",
            "\n",
            "\n",
            "  0%|          | 0/1 [00:00<?, ?it/s]\u001b[A\u001b[A\u001b[A\n",
            "\n",
            "\n",
            "\n",
            "\n",
            "0it [00:00, ?it/s]\u001b[A\u001b[A\u001b[A\u001b[A\u001b[A\n",
            "\n",
            "\n",
            "\n",
            "\n",
            "\n",
            "0it [00:00, ?it/s]\u001b[A\u001b[A\u001b[A\u001b[A\u001b[A\u001b[A\n",
            "\n",
            "\n",
            "\n",
            "0it [00:00, ?it/s]\n",
            "\n",
            "\n",
            "0it [00:00, ?it/s]\n",
            "0it [00:00, ?it/s]\n",
            "0it [00:00, ?it/s]\n",
            "\n",
            "\n",
            "\n",
            "\n",
            "100%|██████████| 1/1 [00:02<00:00,  2.34s/it]"
          ]
        },
        {
          "name": "stdout",
          "output_type": "stream",
          "text": [
            "\n"
          ]
        },
        {
          "name": "stderr",
          "output_type": "stream",
          "text": [
            "\n",
            "\n",
            "100%|██████████| 1/1 [00:19<00:00, 19.02s/it]\n",
            "\n",
            "\n",
            "\n",
            "100%|██████████| 1/1 [00:20<00:00, 20.71s/it]\n",
            "100%|██████████| 1/1 [00:29<00:00, 29.98s/it]"
          ]
        },
        {
          "name": "stdout",
          "output_type": "stream",
          "text": [
            "check point 4\n",
            "\n",
            "\n",
            "\n",
            "\n",
            "\n",
            "\n",
            "Count:19\n",
            "[youtube] Extracting URL: https://www.youtube.com/watch?v=pOP5Zzm19kc\n",
            "[youtube] pOP5Zzm19kc: Downloading webpage\n"
          ]
        },
        {
          "name": "stderr",
          "output_type": "stream",
          "text": [
            "\n"
          ]
        },
        {
          "name": "stdout",
          "output_type": "stream",
          "text": [
            "[youtube] pOP5Zzm19kc: Downloading ios player API JSON\n",
            "[youtube] pOP5Zzm19kc: Downloading android player API JSON\n",
            "[youtube] pOP5Zzm19kc: Downloading m3u8 information\n",
            "[youtube] Extracting URL: https://www.youtube.com/watch?v=pOP5Zzm19kc\n",
            "[youtube] pOP5Zzm19kc: Downloading webpage\n",
            "[youtube] pOP5Zzm19kc: Downloading ios player API JSON\n",
            "[youtube] pOP5Zzm19kc: Downloading android player API JSON\n",
            "[youtube] pOP5Zzm19kc: Downloading m3u8 information\n",
            "[info] pOP5Zzm19kc: Downloading 1 format(s): 140\n",
            "[download] Destination: ./Pork-Fried Quinoa - Low-Fat Pork-Fried Rice Recipe with Quinoa.wav\n",
            "[download] 100% of    4.64MiB in 00:00:03 at 1.46MiB/s   \n",
            "[FixupM4a] Correcting container of \"./Pork-Fried Quinoa - Low-Fat Pork-Fried Rice Recipe with Quinoa.wav\"\n",
            "[ExtractAudio] Destination: ./Pork-Fried Quinoa - Low-Fat Pork-Fried Rice Recipe with Quinoa.wav.wav\n",
            "Deleting original file ./Pork-Fried Quinoa - Low-Fat Pork-Fried Rice Recipe with Quinoa.wav (pass -k to keep)\n",
            "check point 1\n",
            "All splited successfully\n",
            ">>> Video duration: 300.55909297052153\n",
            "check point 2\n",
            "check point 3\n"
          ]
        },
        {
          "name": "stderr",
          "output_type": "stream",
          "text": [
            "  0%|          | 0/1 [00:00<?, ?it/s]\n",
            "  0%|          | 0/1 [00:00<?, ?it/s]\u001b[A\n",
            "\n",
            "  0%|          | 0/1 [00:00<?, ?it/s]\u001b[A\u001b[A\n",
            "\n",
            "\n",
            "  0%|          | 0/1 [00:00<?, ?it/s]\u001b[A\u001b[A\u001b[A\n",
            "\n",
            "\n",
            "\n",
            "  0%|          | 0/1 [00:00<?, ?it/s]\u001b[A\u001b[A\u001b[A\u001b[A\n",
            "\n",
            "\n",
            "\n",
            "\n",
            "  0%|          | 0/1 [00:00<?, ?it/s]\u001b[A\u001b[A\u001b[A\u001b[A\u001b[A\n",
            "\n",
            "\n",
            "\n",
            "\n",
            "\n",
            "0it [00:00, ?it/s]\u001b[A\u001b[A\u001b[A\u001b[A\u001b[A\u001b[A\n",
            "\n",
            "\n",
            "\n",
            "\n",
            "\n",
            "\n",
            "0it [00:00, ?it/s]\n",
            "0it [00:00, ?it/s]\n",
            "100%|██████████| 1/1 [00:19<00:00, 19.97s/it]\n",
            "\n",
            "\n",
            "\n",
            "\n",
            "100%|██████████| 1/1 [00:21<00:00, 21.35s/it]\n",
            "\n",
            "\n",
            "\n",
            "100%|██████████| 1/1 [00:24<00:00, 24.29s/it]\n",
            "\n",
            "\n",
            "100%|██████████| 1/1 [00:28<00:00, 28.79s/it]\n",
            "\n",
            "\n",
            "\n",
            "\n",
            "\n",
            "100%|██████████| 1/1 [00:42<00:00, 42.54s/it]"
          ]
        },
        {
          "name": "stdout",
          "output_type": "stream",
          "text": [
            "\n"
          ]
        },
        {
          "name": "stderr",
          "output_type": "stream",
          "text": [
            "\n",
            "\n",
            "100%|██████████| 1/1 [00:43<00:00, 43.20s/it]"
          ]
        },
        {
          "name": "stdout",
          "output_type": "stream",
          "text": [
            "check point 4\n",
            "\n",
            "\n",
            "\n",
            "\n",
            "\n",
            "\n",
            "Count:20\n",
            "[youtube] Extracting URL: https://www.youtube.com/watch?v=dxSSb3tv5ZM\n",
            "[youtube] dxSSb3tv5ZM: Downloading webpage\n"
          ]
        },
        {
          "name": "stderr",
          "output_type": "stream",
          "text": [
            "\n"
          ]
        },
        {
          "name": "stdout",
          "output_type": "stream",
          "text": [
            "[youtube] dxSSb3tv5ZM: Downloading ios player API JSON\n",
            "[youtube] dxSSb3tv5ZM: Downloading android player API JSON\n",
            "[youtube] dxSSb3tv5ZM: Downloading m3u8 information\n",
            "[youtube] Extracting URL: https://www.youtube.com/watch?v=dxSSb3tv5ZM\n",
            "[youtube] dxSSb3tv5ZM: Downloading webpage\n",
            "[youtube] dxSSb3tv5ZM: Downloading ios player API JSON\n",
            "[youtube] dxSSb3tv5ZM: Downloading android player API JSON\n",
            "[youtube] dxSSb3tv5ZM: Downloading m3u8 information\n",
            "[info] dxSSb3tv5ZM: Downloading 1 format(s): 140\n",
            "[download] Destination: ./How to make Galbi 갈비 (Korean short ribs).wav\n",
            "[download] 100% of    4.06MiB in 00:00:19 at 208.29KiB/s \n",
            "[FixupM4a] Correcting container of \"./How to make Galbi 갈비 (Korean short ribs).wav\"\n",
            "[ExtractAudio] Destination: ./How to make Galbi 갈비 (Korean short ribs).wav.wav\n",
            "Deleting original file ./How to make Galbi 갈비 (Korean short ribs).wav (pass -k to keep)\n",
            "check point 1\n",
            "All splited successfully\n",
            ">>> Video duration: 265.2647619047619\n",
            "check point 2\n",
            "check point 3\n"
          ]
        },
        {
          "name": "stderr",
          "output_type": "stream",
          "text": [
            "  0%|          | 0/1 [00:00<?, ?it/s]\n",
            "\n",
            "  0%|          | 0/1 [00:00<?, ?it/s]\u001b[A\u001b[A\n",
            "  0%|          | 0/1 [00:00<?, ?it/s]\u001b[A\n",
            "\n",
            "\n",
            "0it [00:00, ?it/s]\u001b[A\u001b[A\u001b[A\n",
            "\n",
            "\n",
            "\n",
            "\n",
            "  0%|          | 0/1 [00:00<?, ?it/s]\u001b[A\u001b[A\u001b[A\u001b[A\u001b[A\n",
            "\n",
            "\n",
            "\n",
            "\n",
            "\n",
            "0it [00:00, ?it/s]\u001b[A\u001b[A\u001b[A\u001b[A\u001b[A\u001b[A\n",
            "\n",
            "\n",
            "\n",
            "\n",
            "\n",
            "\n",
            "0it [00:00, ?it/s]\n",
            "0it [00:00, ?it/s]\n",
            "\n",
            "\n",
            "\n",
            "\n",
            "0it [00:00, ?it/s]\n",
            "\n",
            "100%|██████████| 1/1 [00:01<00:00,  1.13s/it]\n",
            "\n",
            "\n",
            "\n",
            "\n",
            "100%|██████████| 1/1 [00:01<00:00,  1.38s/it]\n",
            "\n",
            "\n",
            "100%|██████████| 1/1 [00:01<00:00,  1.74s/it]\n",
            "\n",
            "\n",
            "\n",
            "\n",
            "\n",
            "100%|██████████| 1/1 [00:05<00:00,  5.62s/it]\n",
            "100%|██████████| 1/1 [00:21<00:00, 21.90s/it]"
          ]
        },
        {
          "name": "stdout",
          "output_type": "stream",
          "text": [
            "check point 4\n",
            "\n",
            "\n",
            "\n",
            "\n",
            "\n",
            "\n",
            "Count:21\n",
            "[youtube] Extracting URL: https://www.youtube.com/watch?v=acMP2DOpWeA\n",
            "[youtube] acMP2DOpWeA: Downloading webpage\n"
          ]
        },
        {
          "name": "stderr",
          "output_type": "stream",
          "text": [
            "\n"
          ]
        },
        {
          "name": "stdout",
          "output_type": "stream",
          "text": [
            "[youtube] acMP2DOpWeA: Downloading ios player API JSON\n",
            "[youtube] acMP2DOpWeA: Downloading android player API JSON\n",
            "[youtube] acMP2DOpWeA: Downloading m3u8 information\n",
            "[youtube] Extracting URL: https://www.youtube.com/watch?v=acMP2DOpWeA\n",
            "[youtube] acMP2DOpWeA: Downloading webpage\n",
            "[youtube] acMP2DOpWeA: Downloading ios player API JSON\n",
            "[youtube] acMP2DOpWeA: Downloading android player API JSON\n",
            "[youtube] acMP2DOpWeA: Downloading m3u8 information\n",
            "[info] acMP2DOpWeA: Downloading 1 format(s): 140\n",
            "[download] Destination: ./How to Make Pancakes From Scratch (Homemade Pancake Recipe)  OCHIKERON  Create Eat Happy ).wav\n",
            "[download] 100% of    2.70MiB in 00:00:04 at 582.60KiB/s \n",
            "[FixupM4a] Correcting container of \"./How to Make Pancakes From Scratch (Homemade Pancake Recipe)  OCHIKERON  Create Eat Happy ).wav\"\n",
            "[ExtractAudio] Destination: ./How to Make Pancakes From Scratch (Homemade Pancake Recipe)  OCHIKERON  Create Eat Happy ).wav.wav\n",
            "Deleting original file ./How to Make Pancakes From Scratch (Homemade Pancake Recipe)  OCHIKERON  Create Eat Happy ).wav (pass -k to keep)\n",
            "check point 1\n",
            "All splited successfully\n",
            ">>> Video duration: 174.93913832199547\n",
            "check point 2\n",
            "check point 3\n"
          ]
        },
        {
          "name": "stderr",
          "output_type": "stream",
          "text": [
            "  0%|          | 0/1 [00:00<?, ?it/s]\n",
            "  0%|          | 0/1 [00:00<?, ?it/s]\u001b[A\n",
            "\n",
            "  0%|          | 0/1 [00:00<?, ?it/s]\u001b[A\u001b[A\n",
            "\n",
            "\n",
            "0it [00:00, ?it/s]\u001b[A\u001b[A\u001b[A\n",
            "\n",
            "\n",
            "\n",
            "0it [00:00, ?it/s]\u001b[A\u001b[A\u001b[A\u001b[A\n",
            "\n",
            "\n",
            "\n",
            "\n",
            "\n",
            "\n",
            "0it [00:00, ?it/s]\u001b[A\u001b[A\u001b[A\u001b[A\u001b[A\u001b[A\u001b[A\n",
            "\n",
            "\n",
            "\n",
            "\n",
            "\n",
            "0it [00:00, ?it/s]\n",
            "\n",
            "\n",
            "\n",
            "\n",
            "\n",
            "0it [00:00, ?it/s]\n",
            "0it [00:00, ?it/s]\n",
            "0it [00:00, ?it/s]\n",
            "0it [00:00, ?it/s]\n",
            "\n",
            "\n",
            "100%|██████████| 1/1 [00:10<00:00, 10.39s/it]\n",
            "100%|██████████| 1/1 [00:14<00:00, 14.36s/it]\n",
            "\n",
            "100%|██████████| 1/1 [00:20<00:00, 20.49s/it]"
          ]
        },
        {
          "name": "stdout",
          "output_type": "stream",
          "text": [
            "check point 4\n",
            "\n",
            "\n",
            "\n",
            "\n",
            "\n",
            "\n",
            "Count:22\n",
            "[youtube] Extracting URL: https://www.youtube.com/watch?v=Gs3OGfQbPjc\n",
            "[youtube] Gs3OGfQbPjc: Downloading webpage\n"
          ]
        },
        {
          "name": "stderr",
          "output_type": "stream",
          "text": [
            "\n"
          ]
        },
        {
          "name": "stdout",
          "output_type": "stream",
          "text": [
            "[youtube] Gs3OGfQbPjc: Downloading ios player API JSON\n",
            "[youtube] Gs3OGfQbPjc: Downloading android player API JSON\n",
            "[youtube] Gs3OGfQbPjc: Downloading m3u8 information\n",
            "[youtube] Extracting URL: https://www.youtube.com/watch?v=Gs3OGfQbPjc\n",
            "[youtube] Gs3OGfQbPjc: Downloading webpage\n",
            "[youtube] Gs3OGfQbPjc: Downloading ios player API JSON\n",
            "[youtube] Gs3OGfQbPjc: Downloading android player API JSON\n",
            "[youtube] Gs3OGfQbPjc: Downloading m3u8 information\n",
            "[info] Gs3OGfQbPjc: Downloading 1 format(s): 140\n",
            "[download] Destination: ./How To Make Crispy, Crunchy Onion Rings - Video Recipe.wav\n",
            "[download] 100% of    2.42MiB in 00:00:01 at 2.12MiB/s   \n",
            "[FixupM4a] Correcting container of \"./How To Make Crispy, Crunchy Onion Rings - Video Recipe.wav\"\n",
            "[ExtractAudio] Destination: ./How To Make Crispy, Crunchy Onion Rings - Video Recipe.wav.wav\n",
            "Deleting original file ./How To Make Crispy, Crunchy Onion Rings - Video Recipe.wav (pass -k to keep)\n",
            "check point 1\n",
            "All splited successfully\n",
            ">>> Video duration: 156.5257142857143\n",
            "check point 2\n",
            "check point 3\n"
          ]
        },
        {
          "name": "stderr",
          "output_type": "stream",
          "text": [
            "  0%|          | 0/1 [00:00<?, ?it/s]\n",
            "  0%|          | 0/1 [00:00<?, ?it/s]\u001b[A\n",
            "\n",
            "\n",
            "\n",
            "0it [00:00, ?it/s]\u001b[A\u001b[A\u001b[A\u001b[A\n",
            "\n",
            "  0%|          | 0/1 [00:00<?, ?it/s]\u001b[A\u001b[A\n",
            "\n",
            "\n",
            "0it [00:00, ?it/s]\u001b[A\u001b[A\u001b[A\n",
            "\n",
            "\n",
            "\n",
            "\n",
            "\n",
            "\n",
            "0it [00:00, ?it/s]\u001b[A\u001b[A\u001b[A\u001b[A\u001b[A\u001b[A\u001b[A\n",
            "\n",
            "\n",
            "\n",
            "\n",
            "\n",
            "0it [00:00, ?it/s]\n",
            "\n",
            "\n",
            "\n",
            "\n",
            "\n",
            "0it [00:00, ?it/s]\n",
            "0it [00:00, ?it/s]\n",
            "0it [00:00, ?it/s]\n",
            "0it [00:00, ?it/s]\n",
            "\n",
            "\n",
            "100%|██████████| 1/1 [00:03<00:00,  3.15s/it]"
          ]
        },
        {
          "name": "stdout",
          "output_type": "stream",
          "text": [
            "\n"
          ]
        },
        {
          "name": "stderr",
          "output_type": "stream",
          "text": [
            "\n",
            "100%|██████████| 1/1 [00:20<00:00, 20.65s/it]\n",
            "\n",
            "100%|██████████| 1/1 [00:21<00:00, 21.80s/it]"
          ]
        },
        {
          "name": "stdout",
          "output_type": "stream",
          "text": [
            "check point 4\n",
            "\n",
            "\n",
            "\n",
            "\n",
            "\n",
            "\n",
            "Count:23\n",
            "[youtube] Extracting URL: https://www.youtube.com/watch?v=TkK7BbBNPaY\n",
            "[youtube] TkK7BbBNPaY: Downloading webpage\n"
          ]
        },
        {
          "name": "stderr",
          "output_type": "stream",
          "text": [
            "\n"
          ]
        },
        {
          "name": "stdout",
          "output_type": "stream",
          "text": [
            "[youtube] TkK7BbBNPaY: Downloading ios player API JSON\n",
            "[youtube] TkK7BbBNPaY: Downloading android player API JSON\n"
          ]
        },
        {
          "name": "stderr",
          "output_type": "stream",
          "text": [
            "ERROR: [youtube] TkK7BbBNPaY: Video unavailable\n"
          ]
        },
        {
          "name": "stdout",
          "output_type": "stream",
          "text": [
            "Video at URL https://www.youtube.com/watch?v=TkK7BbBNPaY is not available or cannot be downloaded.\n",
            "\n",
            "\n",
            "\n",
            "\n",
            "\n",
            "\n",
            "Count:24\n",
            "[youtube] Extracting URL: https://www.youtube.com/watch?v=_bICKhr9AGo\n",
            "[youtube] _bICKhr9AGo: Downloading webpage\n",
            "[youtube] _bICKhr9AGo: Downloading ios player API JSON\n",
            "[youtube] _bICKhr9AGo: Downloading android player API JSON\n",
            "[youtube] _bICKhr9AGo: Downloading m3u8 information\n",
            "[youtube] Extracting URL: https://www.youtube.com/watch?v=_bICKhr9AGo\n",
            "[youtube] _bICKhr9AGo: Downloading webpage\n",
            "[youtube] _bICKhr9AGo: Downloading ios player API JSON\n",
            "[youtube] _bICKhr9AGo: Downloading android player API JSON\n",
            "[youtube] _bICKhr9AGo: Downloading m3u8 information\n",
            "[info] _bICKhr9AGo: Downloading 1 format(s): 140\n",
            "[download] Destination: ./How to Make Banh Mi.wav\n",
            "[download] 100% of    5.32MiB in 00:00:01 at 3.24MiB/s   \n",
            "[FixupM4a] Correcting container of \"./How to Make Banh Mi.wav\"\n",
            "[ExtractAudio] Destination: ./How to Make Banh Mi.wav.wav\n",
            "Deleting original file ./How to Make Banh Mi.wav (pass -k to keep)\n",
            "check point 1\n",
            "All splited successfully\n",
            ">>> Video duration: 344.6770068027211\n",
            "check point 2\n",
            "check point 3\n"
          ]
        },
        {
          "name": "stderr",
          "output_type": "stream",
          "text": [
            "  0%|          | 0/1 [00:00<?, ?it/s]\n",
            "  0%|          | 0/1 [00:00<?, ?it/s]\u001b[A\n",
            "\n",
            "  0%|          | 0/1 [00:00<?, ?it/s]\u001b[A\u001b[A\n",
            "\n",
            "\n",
            "  0%|          | 0/1 [00:00<?, ?it/s]\u001b[A\u001b[A\u001b[A\n",
            "\n",
            "\n",
            "\n",
            "  0%|          | 0/1 [00:00<?, ?it/s]\u001b[A\u001b[A\u001b[A\u001b[A\n",
            "\n",
            "\n",
            "\n",
            "\n",
            "\n",
            "0it [00:00, ?it/s]\u001b[A\u001b[A\u001b[A\u001b[A\u001b[A\u001b[A\n",
            "\n",
            "\n",
            "\n",
            "\n",
            "0it [00:00, ?it/s]\n",
            "\n",
            "\n",
            "\n",
            "\n",
            "\n",
            "\n",
            "\n",
            "0it [00:00, ?it/s]\n",
            "\n",
            "\n",
            "\n",
            "\n",
            "100%|██████████| 1/1 [00:01<00:00,  1.18s/it]\n",
            "\n",
            "100%|██████████| 1/1 [00:01<00:00,  1.32s/it]"
          ]
        },
        {
          "name": "stdout",
          "output_type": "stream",
          "text": [
            "\n",
            "\n"
          ]
        },
        {
          "name": "stderr",
          "output_type": "stream",
          "text": [
            "\n",
            "100%|██████████| 1/1 [00:01<00:00,  1.62s/it]"
          ]
        },
        {
          "name": "stdout",
          "output_type": "stream",
          "text": [
            "\n"
          ]
        },
        {
          "name": "stderr",
          "output_type": "stream",
          "text": [
            "\n",
            "\n",
            "\n",
            "100%|██████████| 1/1 [00:03<00:00,  3.09s/it]\n",
            "\n",
            "\n",
            "\n",
            "100%|██████████| 1/1 [00:06<00:00,  6.13s/it]\n",
            "\n",
            "\n",
            "\n",
            "\n",
            "\n",
            "100%|██████████| 1/1 [00:08<00:00,  8.62s/it]"
          ]
        },
        {
          "name": "stdout",
          "output_type": "stream",
          "text": [
            "check point 4\n",
            "\n",
            "\n",
            "\n",
            "\n",
            "\n",
            "\n",
            "Count:25\n",
            "[youtube] Extracting URL: https://www.youtube.com/watch?v=dxK5n3J9pdY\n",
            "[youtube] dxK5n3J9pdY: Downloading webpage\n"
          ]
        },
        {
          "name": "stderr",
          "output_type": "stream",
          "text": [
            "\n"
          ]
        },
        {
          "name": "stdout",
          "output_type": "stream",
          "text": [
            "[youtube] dxK5n3J9pdY: Downloading ios player API JSON\n",
            "[youtube] dxK5n3J9pdY: Downloading android player API JSON\n",
            "[youtube] dxK5n3J9pdY: Downloading m3u8 information\n",
            "[youtube] Extracting URL: https://www.youtube.com/watch?v=dxK5n3J9pdY\n",
            "[youtube] dxK5n3J9pdY: Downloading webpage\n",
            "[youtube] dxK5n3J9pdY: Downloading ios player API JSON\n",
            "[youtube] dxK5n3J9pdY: Downloading android player API JSON\n",
            "[youtube] dxK5n3J9pdY: Downloading m3u8 information\n",
            "[info] dxK5n3J9pdY: Downloading 1 format(s): 140\n",
            "[download] Destination: ./How to Make Punjabi Chole at Home by Manjula  Punjabi Chole Masala Recipe.wav\n",
            "[download] 100% of    6.64MiB in 00:00:01 at 3.39MiB/s   \n",
            "[FixupM4a] Correcting container of \"./How to Make Punjabi Chole at Home by Manjula  Punjabi Chole Masala Recipe.wav\"\n",
            "[ExtractAudio] Destination: ./How to Make Punjabi Chole at Home by Manjula  Punjabi Chole Masala Recipe.wav.wav\n",
            "Deleting original file ./How to Make Punjabi Chole at Home by Manjula  Punjabi Chole Masala Recipe.wav (pass -k to keep)\n",
            "check point 1\n",
            "All splited successfully\n",
            ">>> Video duration: 430.4282993197279\n",
            "check point 2\n",
            "check point 3\n"
          ]
        },
        {
          "name": "stderr",
          "output_type": "stream",
          "text": [
            "  0%|          | 0/1 [00:00<?, ?it/s]\n",
            "  0%|          | 0/1 [00:00<?, ?it/s]\u001b[A\n",
            "\n",
            "  0%|          | 0/1 [00:00<?, ?it/s]\u001b[A\u001b[A\n",
            "\n",
            "\n",
            "  0%|          | 0/1 [00:00<?, ?it/s]\u001b[A\u001b[A\u001b[A\n",
            "\n",
            "\n",
            "\n",
            "  0%|          | 0/1 [00:00<?, ?it/s]\u001b[A\u001b[A\u001b[A\u001b[A\n",
            "\n",
            "\n",
            "\n",
            "\n",
            "\n",
            "\n",
            "  0%|          | 0/1 [00:00<?, ?it/s]\u001b[A\u001b[A\u001b[A\u001b[A\u001b[A\u001b[A\u001b[A\n",
            "\n",
            "\n",
            "\n",
            "\n",
            "  0%|          | 0/1 [00:00<?, ?it/s]\u001b[A\u001b[A\u001b[A\u001b[A\u001b[A\n",
            "\n",
            "\n",
            "\n",
            "\n",
            "\n",
            "  0%|          | 0/1 [00:00<?, ?it/s]\u001b[A\u001b[A\u001b[A\u001b[A\u001b[A\u001b[A\n",
            "\n",
            "\n",
            "100%|██████████| 1/1 [00:00<00:00,  1.81it/s]"
          ]
        },
        {
          "name": "stdout",
          "output_type": "stream",
          "text": [
            "\n"
          ]
        },
        {
          "name": "stderr",
          "output_type": "stream",
          "text": [
            "\n",
            "\n",
            "100%|██████████| 1/1 [00:01<00:00,  1.39s/it]\n",
            "\n",
            "\n",
            "\n",
            "\n",
            "\n",
            "\n",
            "100%|██████████| 1/1 [00:01<00:00,  1.60s/it]\n",
            "\n",
            "\n",
            "100%|██████████| 1/1 [00:05<00:00,  5.96s/it]\n",
            "\n",
            "\n",
            "\n",
            "\n",
            "\n",
            "100%|██████████| 1/1 [00:06<00:00,  6.29s/it]\n",
            "\n",
            "\n",
            "\n",
            "\n",
            "100%|██████████| 1/1 [00:10<00:00, 10.14s/it]\n",
            "100%|██████████| 1/1 [00:18<00:00, 18.69s/it]\n",
            "\n",
            "\n",
            "\n",
            "\n",
            "\n",
            "\n",
            "\n",
            "100%|██████████| 1/1 [00:21<00:00, 21.88s/it]"
          ]
        },
        {
          "name": "stdout",
          "output_type": "stream",
          "text": [
            "check point 4\n",
            "\n",
            "\n",
            "\n",
            "\n",
            "\n",
            "\n",
            "Count:26\n",
            "[youtube] Extracting URL: https://www.youtube.com/watch?v=pOWe4zB-E-4\n",
            "[youtube] pOWe4zB-E-4: Downloading webpage\n"
          ]
        },
        {
          "name": "stderr",
          "output_type": "stream",
          "text": [
            "\n"
          ]
        },
        {
          "name": "stdout",
          "output_type": "stream",
          "text": [
            "[youtube] pOWe4zB-E-4: Downloading ios player API JSON\n",
            "[youtube] pOWe4zB-E-4: Downloading android player API JSON\n",
            "[youtube] pOWe4zB-E-4: Downloading m3u8 information\n",
            "[youtube] Extracting URL: https://www.youtube.com/watch?v=pOWe4zB-E-4\n",
            "[youtube] pOWe4zB-E-4: Downloading webpage\n",
            "[youtube] pOWe4zB-E-4: Downloading ios player API JSON\n",
            "[youtube] pOWe4zB-E-4: Downloading android player API JSON\n",
            "[youtube] pOWe4zB-E-4: Downloading m3u8 information\n",
            "[info] pOWe4zB-E-4: Downloading 1 format(s): 140\n",
            "[download] Destination: ./Masala Rava Dosa.wav\n",
            "[download] 100% of    4.17MiB in 00:00:20 at 209.89KiB/s \n",
            "[FixupM4a] Correcting container of \"./Masala Rava Dosa.wav\"\n",
            "[ExtractAudio] Destination: ./Masala Rava Dosa.wav.wav\n",
            "Deleting original file ./Masala Rava Dosa.wav (pass -k to keep)\n",
            "check point 1\n",
            "All splited successfully\n",
            ">>> Video duration: 275.5744217687075\n",
            "check point 2\n",
            "check point 3\n"
          ]
        },
        {
          "name": "stderr",
          "output_type": "stream",
          "text": [
            "  0%|          | 0/1 [00:00<?, ?it/s]\n",
            "  0%|          | 0/1 [00:00<?, ?it/s]\u001b[A\n",
            "\n",
            "  0%|          | 0/1 [00:00<?, ?it/s]\u001b[A\u001b[A\n",
            "\n",
            "\n",
            "  0%|          | 0/1 [00:00<?, ?it/s]\u001b[A\u001b[A\u001b[A\n",
            "\n",
            "\n",
            "\n",
            "0it [00:00, ?it/s]\u001b[A\u001b[A\u001b[A\u001b[A\n",
            "\n",
            "\n",
            "\n",
            "\n",
            "0it [00:00, ?it/s]\u001b[A\u001b[A\u001b[A\u001b[A\u001b[A\n",
            "\n",
            "\n",
            "\n",
            "\n",
            "\n",
            "\n",
            "  0%|          | 0/1 [00:00<?, ?it/s]\u001b[A\u001b[A\u001b[A\u001b[A\u001b[A\u001b[A\u001b[A\n",
            "\n",
            "\n",
            "\n",
            "\n",
            "\n",
            "0it [00:00, ?it/s]\n",
            "0it [00:00, ?it/s]\n",
            "0it [00:00, ?it/s]\n",
            "\n",
            "\n",
            "\n",
            "100%|██████████| 1/1 [00:00<00:00,  1.51it/s]\n",
            "\n",
            "100%|██████████| 1/1 [00:00<00:00,  1.33it/s]\n",
            "\n",
            "\n",
            "100%|██████████| 1/1 [00:02<00:00,  2.28s/it]\n",
            "\n",
            "\n",
            "\n",
            "\n",
            "\n",
            "\n",
            "\n",
            "100%|██████████| 1/1 [00:03<00:00,  3.52s/it]\n",
            "100%|██████████| 1/1 [00:09<00:00,  9.80s/it]"
          ]
        },
        {
          "name": "stdout",
          "output_type": "stream",
          "text": [
            "check point 4\n",
            "\n",
            "\n",
            "\n",
            "\n",
            "\n",
            "\n",
            "Count:27\n",
            "[youtube] Extracting URL: https://www.youtube.com/watch?v=zEdAA9Oxpdw\n",
            "[youtube] zEdAA9Oxpdw: Downloading webpage\n"
          ]
        },
        {
          "name": "stderr",
          "output_type": "stream",
          "text": [
            "\n"
          ]
        },
        {
          "name": "stdout",
          "output_type": "stream",
          "text": [
            "[youtube] zEdAA9Oxpdw: Downloading ios player API JSON\n",
            "[youtube] zEdAA9Oxpdw: Downloading android player API JSON\n",
            "[youtube] zEdAA9Oxpdw: Downloading m3u8 information\n",
            "[youtube] Extracting URL: https://www.youtube.com/watch?v=zEdAA9Oxpdw\n",
            "[youtube] zEdAA9Oxpdw: Downloading webpage\n",
            "[youtube] zEdAA9Oxpdw: Downloading ios player API JSON\n",
            "[youtube] zEdAA9Oxpdw: Downloading android player API JSON\n",
            "[youtube] zEdAA9Oxpdw: Downloading m3u8 information\n",
            "[info] zEdAA9Oxpdw: Downloading 1 format(s): 140\n",
            "[download] Destination: ./Quick and Easy Sauerkraut Recipe - Bootleg Tip w Chef Diane DiMeo.wav\n",
            "[download] 100% of    3.26MiB in 00:00:00 at 15.14MiB/s  \n",
            "[FixupM4a] Correcting container of \"./Quick and Easy Sauerkraut Recipe - Bootleg Tip w Chef Diane DiMeo.wav\"\n",
            "[ExtractAudio] Destination: ./Quick and Easy Sauerkraut Recipe - Bootleg Tip w Chef Diane DiMeo.wav.wav\n",
            "Deleting original file ./Quick and Easy Sauerkraut Recipe - Bootleg Tip w Chef Diane DiMeo.wav (pass -k to keep)\n",
            "check point 1\n",
            "All splited successfully\n",
            ">>> Video duration: 211.34802721088437\n",
            "check point 2\n",
            "check point 3\n"
          ]
        },
        {
          "name": "stderr",
          "output_type": "stream",
          "text": [
            "  0%|          | 0/1 [00:00<?, ?it/s]\n",
            "  0%|          | 0/1 [00:00<?, ?it/s]\u001b[A\n",
            "\n",
            "  0%|          | 0/1 [00:00<?, ?it/s]\u001b[A\u001b[A\n",
            "\n",
            "\n",
            "\n",
            "\n",
            "\n",
            "0it [00:00, ?it/s]\u001b[A\u001b[A\u001b[A\u001b[A\u001b[A\u001b[A\n",
            "\n",
            "\n",
            "  0%|          | 0/1 [00:00<?, ?it/s]\u001b[A\u001b[A\u001b[A\n",
            "\n",
            "\n",
            "\n",
            "\n",
            "0it [00:00, ?it/s]\u001b[A\u001b[A\u001b[A\u001b[A\u001b[A\n",
            "\n",
            "\n",
            "\n",
            "0it [00:00, ?it/s]\u001b[A\u001b[A\u001b[A\u001b[A\n",
            "\n",
            "\n",
            "\n",
            "\n",
            "\n",
            "\n",
            "0it [00:00, ?it/s]\n",
            "0it [00:00, ?it/s]\n",
            "0it [00:00, ?it/s]\n",
            "0it [00:00, ?it/s]\n",
            "\n",
            "\n",
            "\n",
            "100%|██████████| 1/1 [00:06<00:00,  6.47s/it]\n",
            "\n",
            "\n",
            "100%|██████████| 1/1 [00:18<00:00, 18.48s/it]\n",
            "100%|██████████| 1/1 [00:30<00:00, 30.23s/it]\n",
            "\n",
            "100%|██████████| 1/1 [00:31<00:00, 31.47s/it]"
          ]
        },
        {
          "name": "stdout",
          "output_type": "stream",
          "text": [
            "check point 4\n",
            "\n",
            "\n",
            "\n",
            "\n",
            "\n",
            "\n",
            "Count:28\n",
            "[youtube] Extracting URL: https://www.youtube.com/watch?v=7Ui4OCsawAU\n",
            "[youtube] 7Ui4OCsawAU: Downloading webpage\n"
          ]
        },
        {
          "name": "stderr",
          "output_type": "stream",
          "text": [
            "\n"
          ]
        },
        {
          "name": "stdout",
          "output_type": "stream",
          "text": [
            "[youtube] 7Ui4OCsawAU: Downloading ios player API JSON\n",
            "[youtube] 7Ui4OCsawAU: Downloading android player API JSON\n",
            "[youtube] 7Ui4OCsawAU: Downloading m3u8 information\n",
            "[youtube] Extracting URL: https://www.youtube.com/watch?v=7Ui4OCsawAU\n",
            "[youtube] 7Ui4OCsawAU: Downloading webpage\n",
            "[youtube] 7Ui4OCsawAU: Downloading ios player API JSON\n",
            "[youtube] 7Ui4OCsawAU: Downloading android player API JSON\n",
            "[youtube] 7Ui4OCsawAU: Downloading m3u8 information\n",
            "[info] 7Ui4OCsawAU: Downloading 1 format(s): 140\n",
            "[download] Destination: ./Escargot Bourguignon.wav\n",
            "[download] 100% of    6.98MiB in 00:00:00 at 14.17MiB/s  \n",
            "[FixupM4a] Correcting container of \"./Escargot Bourguignon.wav\"\n",
            "[ExtractAudio] Destination: ./Escargot Bourguignon.wav.wav\n",
            "Deleting original file ./Escargot Bourguignon.wav (pass -k to keep)\n",
            "check point 1\n",
            "All splited successfully\n",
            ">>> Video duration: 451.883537414966\n",
            "check point 2\n",
            "check point 3\n"
          ]
        },
        {
          "name": "stderr",
          "output_type": "stream",
          "text": [
            "  0%|          | 0/1 [00:00<?, ?it/s]\n",
            "  0%|          | 0/1 [00:00<?, ?it/s]\u001b[A\n",
            "\n",
            "  0%|          | 0/1 [00:00<?, ?it/s]\u001b[A\u001b[A\n",
            "\n",
            "\n",
            "\n",
            "\n",
            "  0%|          | 0/1 [00:00<?, ?it/s]\u001b[A\u001b[A\u001b[A\u001b[A\u001b[A\n",
            "\n",
            "\n",
            "\n",
            "\n",
            "\n",
            "  0%|          | 0/1 [00:00<?, ?it/s]\u001b[A\u001b[A\u001b[A\u001b[A\u001b[A\u001b[A\n",
            "\n",
            "\n",
            "\n",
            "  0%|          | 0/1 [00:00<?, ?it/s]\u001b[A\u001b[A\u001b[A\u001b[A\n",
            "\n",
            "\n",
            "  0%|          | 0/1 [00:00<?, ?it/s]\u001b[A\u001b[A\u001b[A\n",
            "\n",
            "\n",
            "\n",
            "\n",
            "\n",
            "\n",
            "  0%|          | 0/1 [00:00<?, ?it/s]\u001b[A\u001b[A\u001b[A\u001b[A\u001b[A\u001b[A\u001b[A\n",
            "\n",
            "\n",
            "100%|██████████| 1/1 [00:01<00:00,  1.22s/it]\n",
            "\n",
            "100%|██████████| 1/1 [00:01<00:00,  1.88s/it]\n",
            "\n",
            "\n",
            "\n",
            "\n",
            "\n",
            "\n",
            "\n",
            "100%|██████████| 1/1 [00:02<00:00,  2.51s/it]\n",
            "\n",
            "\n",
            "100%|██████████| 1/1 [00:03<00:00,  3.56s/it]"
          ]
        },
        {
          "name": "stdout",
          "output_type": "stream",
          "text": [
            "\n"
          ]
        },
        {
          "name": "stderr",
          "output_type": "stream",
          "text": [
            "\n",
            "\n",
            "\n",
            "\n",
            "\n",
            "\n",
            "\n",
            "100%|██████████| 1/1 [00:05<00:00,  5.18s/it]\n",
            "\n",
            "\n",
            "\n",
            "\n",
            "\n",
            "100%|██████████| 1/1 [00:11<00:00, 11.06s/it]\n",
            "\n",
            "\n",
            "\n",
            "\n",
            "100%|██████████| 1/1 [00:20<00:00, 21.00s/it]"
          ]
        },
        {
          "name": "stdout",
          "output_type": "stream",
          "text": [
            "\n"
          ]
        },
        {
          "name": "stderr",
          "output_type": "stream",
          "text": [
            "\n",
            "100%|██████████| 1/1 [00:30<00:00, 30.74s/it]"
          ]
        },
        {
          "name": "stdout",
          "output_type": "stream",
          "text": [
            "check point 4\n",
            "\n",
            "\n",
            "\n",
            "\n",
            "\n",
            "\n",
            "Count:29\n",
            "[youtube] Extracting URL: https://www.youtube.com/watch?v=frCFxOt9390\n",
            "[youtube] frCFxOt9390: Downloading webpage\n"
          ]
        },
        {
          "name": "stderr",
          "output_type": "stream",
          "text": [
            "\n"
          ]
        },
        {
          "name": "stdout",
          "output_type": "stream",
          "text": [
            "[youtube] frCFxOt9390: Downloading ios player API JSON\n",
            "[youtube] frCFxOt9390: Downloading android player API JSON\n",
            "[youtube] frCFxOt9390: Downloading m3u8 information\n",
            "[youtube] Extracting URL: https://www.youtube.com/watch?v=frCFxOt9390\n",
            "[youtube] frCFxOt9390: Downloading webpage\n",
            "[youtube] frCFxOt9390: Downloading ios player API JSON\n",
            "[youtube] frCFxOt9390: Downloading android player API JSON\n",
            "[youtube] frCFxOt9390: Downloading m3u8 information\n",
            "[info] frCFxOt9390: Downloading 1 format(s): 140\n",
            "[download] Destination: ./How To Make Lamb Vindaloo - Indian Video Recipe.wav\n",
            "[download] 100% of    4.27MiB in 00:00:00 at 5.34MiB/s   \n",
            "[FixupM4a] Correcting container of \"./How To Make Lamb Vindaloo - Indian Video Recipe.wav\"\n",
            "[ExtractAudio] Destination: ./How To Make Lamb Vindaloo - Indian Video Recipe.wav.wav\n",
            "Deleting original file ./How To Make Lamb Vindaloo - Indian Video Recipe.wav (pass -k to keep)\n",
            "check point 1\n",
            "All splited successfully\n",
            ">>> Video duration: 276.43356009070294\n",
            "check point 2\n",
            "check point 3\n"
          ]
        },
        {
          "name": "stderr",
          "output_type": "stream",
          "text": [
            "  0%|          | 0/1 [00:00<?, ?it/s]\n",
            "\n",
            "  0%|          | 0/1 [00:00<?, ?it/s]\u001b[A\u001b[A\n",
            "  0%|          | 0/1 [00:00<?, ?it/s]\u001b[A\n",
            "\n",
            "\n",
            "  0%|          | 0/1 [00:00<?, ?it/s]\u001b[A\u001b[A\u001b[A\n",
            "\n",
            "\n",
            "\n",
            "\n",
            "0it [00:00, ?it/s]\u001b[A\u001b[A\u001b[A\u001b[A\u001b[A\n",
            "\n",
            "\n",
            "\n",
            "\n",
            "\n",
            "\n",
            "0it [00:00, ?it/s]\n",
            "\n",
            "\n",
            "\n",
            "\n",
            "  0%|          | 0/1 [00:00<?, ?it/s]\u001b[A\u001b[A\u001b[A\u001b[A\n",
            "\n",
            "\n",
            "\n",
            "\n",
            "\n",
            "0it [00:00, ?it/s]\n",
            "0it [00:00, ?it/s]\n"
          ]
        }
      ],
      "source": [
        "with open(output_file, \"a\") as outfile:\n",
        "  for url in video_urls:\n",
        "    result, video_id = preprocess_video(url)\n",
        "    outfile.write(f\"Video ID: {video_id}\\n\\nResult: {result}\\n\\n\\n\\n\\n\\n\\n\")\n",
        "    print(f\"\\n\\n\\n\\n\\n\\nCount:{count}\")\n",
        "    count += 1"
      ]
    },
    {
      "cell_type": "code",
      "execution_count": null,
      "id": "rtYLQcO9ye3V",
      "metadata": {
        "colab": {
          "background_save": true
        },
        "id": "rtYLQcO9ye3V"
      },
      "outputs": [],
      "source": [
        "files.download(output_file)"
      ]
    },
    {
      "cell_type": "code",
      "execution_count": null,
      "id": "7bAKA4wEzDy1",
      "metadata": {
        "id": "7bAKA4wEzDy1"
      },
      "outputs": [],
      "source": []
    }
  ],
  "metadata": {
    "accelerator": "GPU",
    "colab": {
      "gpuType": "T4",
      "machine_shape": "hm",
      "provenance": []
    },
    "kernelspec": {
      "display_name": "Python 3",
      "name": "python3"
    },
    "language_info": {
      "codemirror_mode": {
        "name": "ipython",
        "version": 3
      },
      "file_extension": ".py",
      "mimetype": "text/x-python",
      "name": "python",
      "nbconvert_exporter": "python",
      "pygments_lexer": "ipython3",
      "version": "3.9.7"
    }
  },
  "nbformat": 4,
  "nbformat_minor": 5
}